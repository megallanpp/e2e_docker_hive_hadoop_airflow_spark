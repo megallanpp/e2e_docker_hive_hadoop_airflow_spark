{
 "cells": [
  {
   "cell_type": "markdown",
   "id": "4361aba4",
   "metadata": {},
   "source": [
    "#Qual estado e partido têm a maior soma do valor líquido nos anos de 2009 e 2020?"
   ]
  },
  {
   "cell_type": "code",
   "execution_count": 1,
   "id": "324eadf0",
   "metadata": {},
   "outputs": [
    {
     "name": "stderr",
     "output_type": "stream",
     "text": [
      "your 131072x1 screen size is bogus. expect trouble\n",
      "24/01/18 23:16:13 WARN Utils: Your hostname, DESKTOP-6FAV8P8 resolves to a loopback address: 127.0.1.1; using 172.23.38.96 instead (on interface eth0)\n",
      "24/01/18 23:16:13 WARN Utils: Set SPARK_LOCAL_IP if you need to bind to another address\n",
      "Setting default log level to \"WARN\".\n",
      "To adjust logging level use sc.setLogLevel(newLevel). For SparkR, use setLogLevel(newLevel).\n",
      "24/01/18 23:16:15 WARN NativeCodeLoader: Unable to load native-hadoop library for your platform... using builtin-java classes where applicable\n"
     ]
    }
   ],
   "source": [
    "#importando sparksession\n",
    "from pyspark.sql import SparkSession\n",
    "\n",
    "\n",
    "#criando um objeto sparksession object e um appName \n",
    "spark = sparkSession=SparkSession.builder.appName(\"Pergunta1\").getOrCreate()"
   ]
  },
  {
   "cell_type": "code",
   "execution_count": 2,
   "id": "8f9bc41e",
   "metadata": {},
   "outputs": [
    {
     "name": "stderr",
     "output_type": "stream",
     "text": [
      "24/01/18 23:16:22 WARN SparkStringUtils: Truncated the string representation of a plan since it was too large. This behavior can be adjusted by setting 'spark.sql.debug.maxToStringFields'.\n"
     ]
    },
    {
     "name": "stdout",
     "output_type": "stream",
     "text": [
      "+--------------+-------------------+------------+-----------+----------------+---------------------+------------+-------------+------+-----------------------+-------+------+----------+----------------+----------+---------+----+-----------------+--------------+--------------------+-------------------------+--------------------+---------+-------------+---------+------------+--------+----------+--------------+\n",
      "|codlegislatura|         datemissao|idedocumento|idecadastro|indtipodocumento|nucarteiraparlamentar|nudeputadoid|nulegislatura|numano|numespecificacaosubcota|numlote|nummes|numparcela|numressarcimento|numsubcota|sgpartido|sguf|txnomeparlamentar|    txtcnpjcpf|        txtdescricao|txtdescricaoespecificacao|       txtfornecedor|txtnumero|txtpassageiro|txttrecho|vlrdocumento|vlrglosa|vlrliquido|vlrrestituicao|\n",
      "+--------------+-------------------+------------+-----------+----------------+---------------------+------------+-------------+------+-----------------------+-------+------+----------+----------------+----------+---------+----+-----------------+--------------+--------------------+-------------------------+--------------------+---------+-------------+---------+------------+--------+----------+--------------+\n",
      "|            56|2020-02-01 00:00:00|     7007086|       NULL|               0|                 NULL|        2442|         2019|  2020|                      0|1672803|     2|         0|            NULL|         5|     PSDB|  NA|LIDERANÇA DO PSDB|27691290000113|DIVULGAÇÃO DA ATI...|                     NULL|CONTENT ASSESSORI...|      432|         NULL|     NULL|         998|       0|       998|          NULL|\n",
      "|            56|2020-02-13 00:00:00|     7017162|       NULL|               4|                 NULL|        2442|         2019|  2020|                      0|1677757|     1|         0|            NULL|         5|     PSDB|  NA|LIDERANÇA DO PSDB|05265605000128|DIVULGAÇÃO DA ATI...|                     NULL|METROPOLE INTERAT...|       46|         NULL|     NULL|        4920|       0|      4920|          NULL|\n",
      "|            56|2020-02-04 00:00:00|     7007754|       NULL|               4|                 NULL|        2442|         2019|  2020|                      0|1673164|     2|         0|            NULL|        13|     PSDB|  NA|LIDERANÇA DO PSDB|04538454000171|FORNECIMENTO DE A...|                     NULL|  AFC ALIMENTOS LTDA|      306|         NULL|     NULL|         511|       0|       511|          NULL|\n",
      "|            56|2020-02-18 00:00:00|     7018634|       NULL|               4|                 NULL|        2442|         2019|  2020|                      0|1678458|     2|         0|            NULL|        13|     PSDB|  NA|LIDERANÇA DO PSDB|04538454000171|FORNECIMENTO DE A...|                     NULL|  AFC ALIMENTOS LTDA|      311|         NULL|     NULL|         186|       0|       186|          NULL|\n",
      "|            56|2020-02-11 00:00:00|     7011106|       NULL|               4|                 NULL|        2442|         2019|  2020|                      0|1674574|     2|         0|            NULL|        13|     PSDB|  NA|LIDERANÇA DO PSDB|22836210000157|FORNECIMENTO DE A...|                     NULL|ARTESANAL SERVICO...|       23|         NULL|     NULL|         740|       0|       740|          NULL|\n",
      "|            56|2020-02-12 00:00:00|     7012913|       NULL|               4|                 NULL|        2442|         2019|  2020|                      0|1675436|     2|         0|            NULL|        13|     PSDB|  NA|LIDERANÇA DO PSDB|23609954000100|FORNECIMENTO DE A...|                     NULL|EMPORIO ARABE BRA...|       29|         NULL|     NULL|      802.95|       0|    802.95|          NULL|\n",
      "|            56|2020-02-17 00:00:00|     7017202|       NULL|               4|                 NULL|        2442|         2019|  2020|                      0|1677777|     2|         0|            NULL|        13|     PSDB|  NA|LIDERANÇA DO PSDB|11813538000131|FORNECIMENTO DE A...|                     NULL|M LELIS CAFETERIA...|    16420|         NULL|     NULL|         730|       0|       730|          NULL|\n",
      "|            56|2020-02-17 00:00:00|     7022388|       NULL|               0|                 NULL|        2439|         2019|  2020|                      0|1680550|     2|         0|            NULL|         1|       PT|  NA|  LIDERANÇA DO PT|08165429000221|MANUTENÇÃO DE ESC...|                     NULL|Digital River do ...| 04587354|         NULL|     NULL|        2100|       0|      2100|          NULL|\n",
      "|            56|2020-02-12 00:00:00|     7012750|       NULL|               4|                 NULL|        2439|         2019|  2020|                      0|1675347|     2|         0|            NULL|         1|       PT|  NA|  LIDERANÇA DO PT|12132854000100|MANUTENÇÃO DE ESC...|                     NULL|WMS COMERCIO DE A...|     2819|         NULL|     NULL|      1298.2|       0|    1298.2|          NULL|\n",
      "|            56|2020-03-03 00:00:00|     7026795|       NULL|               4|                 NULL|        2439|         2019|  2020|                      1|1682527|     3|         0|            NULL|         3|       PT|  NA|  LIDERANÇA DO PT|30642701000195|COMBUSTÍVEIS E LU...|     Veículos Automotores|AUTO POSTO 302 SU...|     2200|         NULL|     NULL|         100|       0|       100|          NULL|\n",
      "|            56|2020-02-03 00:00:00|     7005488|       NULL|               4|                 NULL|        2439|         2019|  2020|                      1|1672130|     2|         0|            NULL|         3|       PT|  NA|  LIDERANÇA DO PT|37063328001058|COMBUSTÍVEIS E LU...|     Veículos Automotores|AUTO SHOPPING DER...|   659284|         NULL|     NULL|      139.76|       0|    139.76|          NULL|\n",
      "|            56|2020-03-03 00:00:00|     7026767|       NULL|               4|                 NULL|        2439|         2019|  2020|                      1|1682517|     3|         0|            NULL|         3|       PT|  NA|  LIDERANÇA DO PT|00306597005166|COMBUSTÍVEIS E LU...|     Veículos Automotores|CASCOL COMBUSTIVE...|   503298|         NULL|     NULL|      167.65|       0|    167.65|          NULL|\n",
      "|            56|2020-01-07 00:00:00|     6994699|       NULL|               4|                 NULL|        2439|         2019|  2020|                      1|1667169|     1|         0|            NULL|         3|       PT|  NA|  LIDERANÇA DO PT|00306597007100|COMBUSTÍVEIS E LU...|     Veículos Automotores|CASCOL COMBUSTIVE...|   900131|         NULL|     NULL|         200|       0|       200|          NULL|\n",
      "|            56|2020-01-14 00:00:00|     6996714|       NULL|               4|                 NULL|        2439|         2019|  2020|                      1|1667983|     1|         0|            NULL|         3|       PT|  NA|  LIDERANÇA DO PT|00306597007100|COMBUSTÍVEIS E LU...|     Veículos Automotores|CASCOL COMBUSTIVE...|   910876|         NULL|     NULL|      231.64|       0|    231.64|          NULL|\n",
      "|            56|2020-01-22 00:00:00|     6997027|       NULL|               4|                 NULL|        2439|         2019|  2020|                      1|1668115|     1|         0|            NULL|         3|       PT|  NA|  LIDERANÇA DO PT|00306597007100|COMBUSTÍVEIS E LU...|     Veículos Automotores|CASCOL COMBUSTIVE...|   923812|         NULL|     NULL|      220.52|       0|    220.52|          NULL|\n",
      "|            56|2020-02-10 00:00:00|     7009135|       NULL|               4|                 NULL|        2439|         2019|  2020|                      1|1673725|     2|         0|            NULL|         3|       PT|  NA|  LIDERANÇA DO PT|08884038000186|COMBUSTÍVEIS E LU...|     Veículos Automotores|FRATELLI POSTO DE...|     1760|         NULL|     NULL|      190.05|       0|    190.05|          NULL|\n",
      "|            56|2020-02-17 00:00:00|     7014622|       NULL|               4|                 NULL|        2439|         2019|  2020|                      1|1676156|     2|         0|            NULL|         3|       PT|  NA|  LIDERANÇA DO PT|08884038000186|COMBUSTÍVEIS E LU...|     Veículos Automotores|FRATELLI POSTO DE...|     3525|         NULL|     NULL|      219.51|       0|    219.51|          NULL|\n",
      "|            56|2020-03-02 00:00:00|     7022576|       NULL|               4|                 NULL|        2439|         2019|  2020|                      1|1680631|     3|         0|            NULL|         3|       PT|  NA|  LIDERANÇA DO PT|08884038000186|COMBUSTÍVEIS E LU...|     Veículos Automotores|FRATELLI POSTO DE...|     5778|         NULL|     NULL|      224.02|       0|    224.02|          NULL|\n",
      "|            56|2020-01-29 00:00:00|     7000239|       NULL|               4|                 NULL|        2439|         2019|  2020|                      1|1669822|     1|         0|            NULL|         3|       PT|  NA|  LIDERANÇA DO PT|08884038000186|COMBUSTÍVEIS E LU...|     Veículos Automotores|FRATELLI POSTO DE...|      962|         NULL|     NULL|      195.03|       0|    195.03|          NULL|\n",
      "|            56|2020-02-03 00:00:00|     7002571|       NULL|               4|                 NULL|        2439|         2019|  2020|                      1|1670768|     2|         0|            NULL|         3|       PT|  NA|  LIDERANÇA DO PT|08414749000197|COMBUSTÍVEIS E LU...|     Veículos Automotores|G3 Auto Posto Ltd...|   415130|         NULL|     NULL|      156.93|       0|    156.93|          NULL|\n",
      "+--------------+-------------------+------------+-----------+----------------+---------------------+------------+-------------+------+-----------------------+-------+------+----------+----------------+----------+---------+----+-----------------+--------------+--------------------+-------------------------+--------------------+---------+-------------+---------+------------+--------+----------+--------------+\n",
      "only showing top 20 rows\n",
      "\n"
     ]
    }
   ],
   "source": [
    "# Fazendo a leitura do arquivo food_coded.csv\n",
    "#df = spark.read.option(\"header\", \"true\").csv(\"/Havan_Labs/Dados/cota-parlamentar.csv\")\n",
    "\n",
    "#Leitura de arquivo CSV\n",
    "df= spark.read.format(\"csv\").option(\"header\", \"true\").load(\"/mnt/c/Havan_Labs/Dados/cota-parlamentar.csv\")\n",
    "df.show()"
   ]
  },
  {
   "cell_type": "code",
   "execution_count": 3,
   "id": "5e165321",
   "metadata": {},
   "outputs": [],
   "source": [
    "# utilizando funcoes do pyspark para filtro\n",
    "from pyspark.sql.functions import *\n",
    "# Filtrando os dados que nao sao nulos\n",
    "resultdf1 = df.filter(df.vlrliquido.isNotNull()).select('sguf','sgpartido', 'numano','vlrliquido')"
   ]
  },
  {
   "cell_type": "code",
   "execution_count": 4,
   "id": "a69e5679",
   "metadata": {},
   "outputs": [
    {
     "name": "stdout",
     "output_type": "stream",
     "text": [
      "+----+---------+------+----------+----------------+\n",
      "|sguf|sgpartido|numano|vlrliquido|vlrliquido_float|\n",
      "+----+---------+------+----------+----------------+\n",
      "|  NA|     PSDB|  2020|       998|           998.0|\n",
      "|  NA|     PSDB|  2020|      4920|          4920.0|\n",
      "|  NA|     PSDB|  2020|       511|           511.0|\n",
      "|  NA|     PSDB|  2020|       186|           186.0|\n",
      "|  NA|     PSDB|  2020|       740|           740.0|\n",
      "|  NA|     PSDB|  2020|    802.95|          802.95|\n",
      "|  NA|     PSDB|  2020|       730|           730.0|\n",
      "|  NA|       PT|  2020|      2100|          2100.0|\n",
      "|  NA|       PT|  2020|    1298.2|          1298.2|\n",
      "|  NA|       PT|  2020|       100|           100.0|\n",
      "|  NA|       PT|  2020|    139.76|          139.76|\n",
      "|  NA|       PT|  2020|    167.65|          167.65|\n",
      "|  NA|       PT|  2020|       200|           200.0|\n",
      "|  NA|       PT|  2020|    231.64|          231.64|\n",
      "|  NA|       PT|  2020|    220.52|          220.52|\n",
      "|  NA|       PT|  2020|    190.05|          190.05|\n",
      "|  NA|       PT|  2020|    219.51|          219.51|\n",
      "|  NA|       PT|  2020|    224.02|          224.02|\n",
      "|  NA|       PT|  2020|    195.03|          195.03|\n",
      "|  NA|       PT|  2020|    156.93|          156.93|\n",
      "+----+---------+------+----------+----------------+\n",
      "only showing top 20 rows\n",
      "\n"
     ]
    }
   ],
   "source": [
    "resultdf2 = resultdf1.withColumn('vlrliquido_float', col(\"vlrliquido\").cast(\"float\"))\n",
    "resultdf2.show()"
   ]
  },
  {
   "cell_type": "code",
   "execution_count": 9,
   "id": "a98986f5",
   "metadata": {},
   "outputs": [
    {
     "name": "stderr",
     "output_type": "stream",
     "text": [
      "[Stage 15:>                                                         (0 + 8) / 8]\r"
     ]
    },
    {
     "name": "stdout",
     "output_type": "stream",
     "text": [
      "+----+---------+------+------------------+\n",
      "|sguf|sgpartido|numano|        vlrliquido|\n",
      "+----+---------+------+------------------+\n",
      "|  SP|     PSDB|  2009|3124848.1707285345|\n",
      "|  SP|       PT|  2009| 3044691.735061351|\n",
      "|  BA|      DEM|  2009| 2358893.117285371|\n",
      "|  RS|       PT|  2009|2056241.3201493286|\n",
      "|  MG|     PMDB|  2009|1900839.9976084232|\n",
      "|  MG|       PR|  2009|1594077.2892600559|\n",
      "|  MG|       PT|  2009|1593777.3795750812|\n",
      "|  PR|     PMDB|  2009|1482949.6693238318|\n",
      "|  RJ|     PMDB|  2009|1460932.2706543207|\n",
      "|  MG|      DEM|  2009|1423681.0094997287|\n",
      "|  SP|      DEM|  2009|1405303.6790257543|\n",
      "|  BA|       PT|  2009| 1356733.358698029|\n",
      "|  CE|       PR|  2009|   1356576.6093654|\n",
      "|  RS|     PP**|  2009|1250933.4191166162|\n",
      "|  RJ|       PR|  2009|1221107.3781769462|\n",
      "|  RS|     PMDB|  2009|1198999.1488789767|\n",
      "|  SC|     PMDB|  2009| 1164509.119074881|\n",
      "|  GO|     PMDB|  2009|1136432.7703627534|\n",
      "|  PE|       PT|  2009|1133449.9698377736|\n",
      "|  MG|     PSDB|  2009|1107093.4387118816|\n",
      "+----+---------+------+------------------+\n",
      "only showing top 20 rows\n",
      "\n"
     ]
    },
    {
     "name": "stderr",
     "output_type": "stream",
     "text": [
      "                                                                                \r"
     ]
    }
   ],
   "source": [
    "# Criando uma tabela temporária em memória com os dados e utilizando consulta SQL\n",
    "resultdf2.createOrReplaceTempView(\"tab_cota_pergunta_1\")\n",
    "sparkSession.sql(\"select sguf, sgpartido, numano, sum(vlrliquido_float) as vlrliquido \\\n",
    "                 from tab_cota_pergunta_1 where numano in (2009) \\\n",
    "                 group by sguf, sgpartido, numano order by 4 desc \").show()"
   ]
  },
  {
   "cell_type": "code",
   "execution_count": 10,
   "id": "cd9a172b",
   "metadata": {},
   "outputs": [
    {
     "name": "stderr",
     "output_type": "stream",
     "text": [
      "[Stage 18:>                                                         (0 + 8) / 8]\r"
     ]
    },
    {
     "name": "stdout",
     "output_type": "stream",
     "text": [
      "+----+------------+------+------------------+\n",
      "|sguf|   sgpartido|numano|        vlrliquido|\n",
      "+----+------------+------+------------------+\n",
      "|  RJ|         PSL|  2020| 405255.8197212219|\n",
      "|  SP|          PT|  2020| 316797.3396821022|\n",
      "|  SP|        PSDB|  2020|316098.67100918293|\n",
      "|  MG|          PT|  2020| 269305.9406156093|\n",
      "|  BA|          PT|  2020|247508.95965147018|\n",
      "|  MG|         PSL|  2020|242155.51024627686|\n",
      "|  SP|REPUBLICANOS|  2020|234830.71965551376|\n",
      "|  SP|         PSL|  2020|221253.77926409245|\n",
      "|  BA|         DEM|  2020|211401.77931678295|\n",
      "|  CE|         PDT|  2020| 205266.1700669229|\n",
      "|  BA|         PSD|  2020|200644.47043967247|\n",
      "|  MG|        PSDB|  2020| 193560.1603386402|\n",
      "|  RS|         PSL|  2020|  171238.439909935|\n",
      "|  AC|         MDB|  2020|157259.23987463117|\n",
      "|  SP|          PL|  2020|154277.97094807774|\n",
      "|  AM|REPUBLICANOS|  2020|154191.81008338928|\n",
      "|  PR|         PSD|  2020|153497.70001769066|\n",
      "|  PB|        PSDB|  2020|148668.29011523724|\n",
      "|  RJ|         DEM|  2020| 142849.4702349156|\n",
      "|  PR|          PL|  2020|141364.95982950926|\n",
      "+----+------------+------+------------------+\n",
      "only showing top 20 rows\n",
      "\n"
     ]
    },
    {
     "name": "stderr",
     "output_type": "stream",
     "text": [
      "                                                                                \r"
     ]
    }
   ],
   "source": [
    "# Criando uma tabela temporária em memória com os dados e utilizando consulta SQL\n",
    "resultdf2.createOrReplaceTempView(\"tab_cota_pergunta_1\")\n",
    "sparkSession.sql(\"select sguf, sgpartido, numano, sum(vlrliquido_float) as vlrliquido \\\n",
    "                 from tab_cota_pergunta_1 where numano in (2020) \\\n",
    "                 group by sguf, sgpartido, numano order by 4 desc \").show()"
   ]
  },
  {
   "cell_type": "code",
   "execution_count": null,
   "id": "9400ff66",
   "metadata": {},
   "outputs": [],
   "source": []
  }
 ],
 "metadata": {
  "kernelspec": {
   "display_name": "Python 3 (ipykernel)",
   "language": "python",
   "name": "python3"
  },
  "language_info": {
   "codemirror_mode": {
    "name": "ipython",
    "version": 3
   },
   "file_extension": ".py",
   "mimetype": "text/x-python",
   "name": "python",
   "nbconvert_exporter": "python",
   "pygments_lexer": "ipython3",
   "version": "3.11.0"
  }
 },
 "nbformat": 4,
 "nbformat_minor": 5
}
