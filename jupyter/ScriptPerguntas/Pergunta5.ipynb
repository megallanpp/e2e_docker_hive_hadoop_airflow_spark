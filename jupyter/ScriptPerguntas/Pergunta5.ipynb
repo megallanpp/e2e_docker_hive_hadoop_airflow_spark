{
 "cells": [
  {
   "cell_type": "markdown",
   "id": "5536cbd9",
   "metadata": {},
   "source": [
    "#Considerando o ano de emissão como sendo 2019 e 2020, exiba as 3 siglas partidárias que mais gastaram cota parlamentar (valores líquidos) para trechos que contenham \"POA\" ou \"FLN\"."
   ]
  },
  {
   "cell_type": "code",
   "execution_count": 1,
   "id": "ba932478",
   "metadata": {},
   "outputs": [
    {
     "name": "stderr",
     "output_type": "stream",
     "text": [
      "your 131072x1 screen size is bogus. expect trouble\n",
      "24/01/18 23:35:09 WARN Utils: Your hostname, DESKTOP-6FAV8P8 resolves to a loopback address: 127.0.1.1; using 172.23.38.96 instead (on interface eth0)\n",
      "24/01/18 23:35:09 WARN Utils: Set SPARK_LOCAL_IP if you need to bind to another address\n",
      "Setting default log level to \"WARN\".\n",
      "To adjust logging level use sc.setLogLevel(newLevel). For SparkR, use setLogLevel(newLevel).\n",
      "24/01/18 23:35:11 WARN NativeCodeLoader: Unable to load native-hadoop library for your platform... using builtin-java classes where applicable\n"
     ]
    }
   ],
   "source": [
    "#importando sparksession\n",
    "from pyspark.sql import SparkSession\n",
    "\n",
    "#criando um objeto sparksession object e um appName \n",
    "spark = sparkSession=SparkSession.builder.appName(\"Pergunta5\").getOrCreate()"
   ]
  },
  {
   "cell_type": "code",
   "execution_count": 2,
   "id": "3b42cbc5",
   "metadata": {},
   "outputs": [
    {
     "name": "stderr",
     "output_type": "stream",
     "text": [
      "24/01/18 23:35:16 WARN SparkStringUtils: Truncated the string representation of a plan since it was too large. This behavior can be adjusted by setting 'spark.sql.debug.maxToStringFields'.\n"
     ]
    },
    {
     "name": "stdout",
     "output_type": "stream",
     "text": [
      "+--------------+-------------------+------------+-----------+----------------+---------------------+------------+-------------+------+-----------------------+-------+------+----------+----------------+----------+---------+----+-----------------+--------------+--------------------+-------------------------+--------------------+---------+-------------+---------+------------+--------+----------+--------------+\n",
      "|codlegislatura|         datemissao|idedocumento|idecadastro|indtipodocumento|nucarteiraparlamentar|nudeputadoid|nulegislatura|numano|numespecificacaosubcota|numlote|nummes|numparcela|numressarcimento|numsubcota|sgpartido|sguf|txnomeparlamentar|    txtcnpjcpf|        txtdescricao|txtdescricaoespecificacao|       txtfornecedor|txtnumero|txtpassageiro|txttrecho|vlrdocumento|vlrglosa|vlrliquido|vlrrestituicao|\n",
      "+--------------+-------------------+------------+-----------+----------------+---------------------+------------+-------------+------+-----------------------+-------+------+----------+----------------+----------+---------+----+-----------------+--------------+--------------------+-------------------------+--------------------+---------+-------------+---------+------------+--------+----------+--------------+\n",
      "|            56|2020-02-01 00:00:00|     7007086|       NULL|               0|                 NULL|        2442|         2019|  2020|                      0|1672803|     2|         0|            NULL|         5|     PSDB|  NA|LIDERANÇA DO PSDB|27691290000113|DIVULGAÇÃO DA ATI...|                     NULL|CONTENT ASSESSORI...|      432|         NULL|     NULL|         998|       0|       998|          NULL|\n",
      "|            56|2020-02-13 00:00:00|     7017162|       NULL|               4|                 NULL|        2442|         2019|  2020|                      0|1677757|     1|         0|            NULL|         5|     PSDB|  NA|LIDERANÇA DO PSDB|05265605000128|DIVULGAÇÃO DA ATI...|                     NULL|METROPOLE INTERAT...|       46|         NULL|     NULL|        4920|       0|      4920|          NULL|\n",
      "|            56|2020-02-04 00:00:00|     7007754|       NULL|               4|                 NULL|        2442|         2019|  2020|                      0|1673164|     2|         0|            NULL|        13|     PSDB|  NA|LIDERANÇA DO PSDB|04538454000171|FORNECIMENTO DE A...|                     NULL|  AFC ALIMENTOS LTDA|      306|         NULL|     NULL|         511|       0|       511|          NULL|\n",
      "|            56|2020-02-18 00:00:00|     7018634|       NULL|               4|                 NULL|        2442|         2019|  2020|                      0|1678458|     2|         0|            NULL|        13|     PSDB|  NA|LIDERANÇA DO PSDB|04538454000171|FORNECIMENTO DE A...|                     NULL|  AFC ALIMENTOS LTDA|      311|         NULL|     NULL|         186|       0|       186|          NULL|\n",
      "|            56|2020-02-11 00:00:00|     7011106|       NULL|               4|                 NULL|        2442|         2019|  2020|                      0|1674574|     2|         0|            NULL|        13|     PSDB|  NA|LIDERANÇA DO PSDB|22836210000157|FORNECIMENTO DE A...|                     NULL|ARTESANAL SERVICO...|       23|         NULL|     NULL|         740|       0|       740|          NULL|\n",
      "|            56|2020-02-12 00:00:00|     7012913|       NULL|               4|                 NULL|        2442|         2019|  2020|                      0|1675436|     2|         0|            NULL|        13|     PSDB|  NA|LIDERANÇA DO PSDB|23609954000100|FORNECIMENTO DE A...|                     NULL|EMPORIO ARABE BRA...|       29|         NULL|     NULL|      802.95|       0|    802.95|          NULL|\n",
      "|            56|2020-02-17 00:00:00|     7017202|       NULL|               4|                 NULL|        2442|         2019|  2020|                      0|1677777|     2|         0|            NULL|        13|     PSDB|  NA|LIDERANÇA DO PSDB|11813538000131|FORNECIMENTO DE A...|                     NULL|M LELIS CAFETERIA...|    16420|         NULL|     NULL|         730|       0|       730|          NULL|\n",
      "|            56|2020-02-17 00:00:00|     7022388|       NULL|               0|                 NULL|        2439|         2019|  2020|                      0|1680550|     2|         0|            NULL|         1|       PT|  NA|  LIDERANÇA DO PT|08165429000221|MANUTENÇÃO DE ESC...|                     NULL|Digital River do ...| 04587354|         NULL|     NULL|        2100|       0|      2100|          NULL|\n",
      "|            56|2020-02-12 00:00:00|     7012750|       NULL|               4|                 NULL|        2439|         2019|  2020|                      0|1675347|     2|         0|            NULL|         1|       PT|  NA|  LIDERANÇA DO PT|12132854000100|MANUTENÇÃO DE ESC...|                     NULL|WMS COMERCIO DE A...|     2819|         NULL|     NULL|      1298.2|       0|    1298.2|          NULL|\n",
      "|            56|2020-03-03 00:00:00|     7026795|       NULL|               4|                 NULL|        2439|         2019|  2020|                      1|1682527|     3|         0|            NULL|         3|       PT|  NA|  LIDERANÇA DO PT|30642701000195|COMBUSTÍVEIS E LU...|     Veículos Automotores|AUTO POSTO 302 SU...|     2200|         NULL|     NULL|         100|       0|       100|          NULL|\n",
      "|            56|2020-02-03 00:00:00|     7005488|       NULL|               4|                 NULL|        2439|         2019|  2020|                      1|1672130|     2|         0|            NULL|         3|       PT|  NA|  LIDERANÇA DO PT|37063328001058|COMBUSTÍVEIS E LU...|     Veículos Automotores|AUTO SHOPPING DER...|   659284|         NULL|     NULL|      139.76|       0|    139.76|          NULL|\n",
      "|            56|2020-03-03 00:00:00|     7026767|       NULL|               4|                 NULL|        2439|         2019|  2020|                      1|1682517|     3|         0|            NULL|         3|       PT|  NA|  LIDERANÇA DO PT|00306597005166|COMBUSTÍVEIS E LU...|     Veículos Automotores|CASCOL COMBUSTIVE...|   503298|         NULL|     NULL|      167.65|       0|    167.65|          NULL|\n",
      "|            56|2020-01-07 00:00:00|     6994699|       NULL|               4|                 NULL|        2439|         2019|  2020|                      1|1667169|     1|         0|            NULL|         3|       PT|  NA|  LIDERANÇA DO PT|00306597007100|COMBUSTÍVEIS E LU...|     Veículos Automotores|CASCOL COMBUSTIVE...|   900131|         NULL|     NULL|         200|       0|       200|          NULL|\n",
      "|            56|2020-01-14 00:00:00|     6996714|       NULL|               4|                 NULL|        2439|         2019|  2020|                      1|1667983|     1|         0|            NULL|         3|       PT|  NA|  LIDERANÇA DO PT|00306597007100|COMBUSTÍVEIS E LU...|     Veículos Automotores|CASCOL COMBUSTIVE...|   910876|         NULL|     NULL|      231.64|       0|    231.64|          NULL|\n",
      "|            56|2020-01-22 00:00:00|     6997027|       NULL|               4|                 NULL|        2439|         2019|  2020|                      1|1668115|     1|         0|            NULL|         3|       PT|  NA|  LIDERANÇA DO PT|00306597007100|COMBUSTÍVEIS E LU...|     Veículos Automotores|CASCOL COMBUSTIVE...|   923812|         NULL|     NULL|      220.52|       0|    220.52|          NULL|\n",
      "|            56|2020-02-10 00:00:00|     7009135|       NULL|               4|                 NULL|        2439|         2019|  2020|                      1|1673725|     2|         0|            NULL|         3|       PT|  NA|  LIDERANÇA DO PT|08884038000186|COMBUSTÍVEIS E LU...|     Veículos Automotores|FRATELLI POSTO DE...|     1760|         NULL|     NULL|      190.05|       0|    190.05|          NULL|\n",
      "|            56|2020-02-17 00:00:00|     7014622|       NULL|               4|                 NULL|        2439|         2019|  2020|                      1|1676156|     2|         0|            NULL|         3|       PT|  NA|  LIDERANÇA DO PT|08884038000186|COMBUSTÍVEIS E LU...|     Veículos Automotores|FRATELLI POSTO DE...|     3525|         NULL|     NULL|      219.51|       0|    219.51|          NULL|\n",
      "|            56|2020-03-02 00:00:00|     7022576|       NULL|               4|                 NULL|        2439|         2019|  2020|                      1|1680631|     3|         0|            NULL|         3|       PT|  NA|  LIDERANÇA DO PT|08884038000186|COMBUSTÍVEIS E LU...|     Veículos Automotores|FRATELLI POSTO DE...|     5778|         NULL|     NULL|      224.02|       0|    224.02|          NULL|\n",
      "|            56|2020-01-29 00:00:00|     7000239|       NULL|               4|                 NULL|        2439|         2019|  2020|                      1|1669822|     1|         0|            NULL|         3|       PT|  NA|  LIDERANÇA DO PT|08884038000186|COMBUSTÍVEIS E LU...|     Veículos Automotores|FRATELLI POSTO DE...|      962|         NULL|     NULL|      195.03|       0|    195.03|          NULL|\n",
      "|            56|2020-02-03 00:00:00|     7002571|       NULL|               4|                 NULL|        2439|         2019|  2020|                      1|1670768|     2|         0|            NULL|         3|       PT|  NA|  LIDERANÇA DO PT|08414749000197|COMBUSTÍVEIS E LU...|     Veículos Automotores|G3 Auto Posto Ltd...|   415130|         NULL|     NULL|      156.93|       0|    156.93|          NULL|\n",
      "+--------------+-------------------+------------+-----------+----------------+---------------------+------------+-------------+------+-----------------------+-------+------+----------+----------------+----------+---------+----+-----------------+--------------+--------------------+-------------------------+--------------------+---------+-------------+---------+------------+--------+----------+--------------+\n",
      "only showing top 20 rows\n",
      "\n"
     ]
    }
   ],
   "source": [
    "# Fazendo a leitura do arquivo food_coded.csv\n",
    "#df = spark.read.option(\"header\", \"true\").csv(\"/Havan_Labs/Dados/cota-parlamentar.csv\")\n",
    "\n",
    "#Leitura de arquivo CSV\n",
    "df= spark.read.format(\"csv\").option(\"header\", \"true\").load(\"/mnt/c/Havan_Labs/Dados/cota-parlamentar.csv\")\n",
    "df.show()"
   ]
  },
  {
   "cell_type": "code",
   "execution_count": 3,
   "id": "a96e105f",
   "metadata": {},
   "outputs": [
    {
     "name": "stdout",
     "output_type": "stream",
     "text": [
      "+------+---------+-----------+----------+----------+----------+\n",
      "|numano|sgpartido|  txttrecho|vlrliquido|contem_POA|contem_FLN|\n",
      "+------+---------+-----------+----------+----------+----------+\n",
      "|  2020|       PT|    POA/BSB|    649.03|      true|     false|\n",
      "|  2020|       PT|    POA/BSB|    485.03|      true|     false|\n",
      "|  2020|       PT|    POA/BSB|    485.03|      true|     false|\n",
      "|  2020|       PT|    BSB/POA|    647.57|      true|     false|\n",
      "|  2020|       PT|    BSB/POA|    545.57|      true|     false|\n",
      "|  2020|       PT|    BSB/POA|    745.57|      true|     false|\n",
      "|  2020|      PDT|    FLN/POA|    263.03|      true|      true|\n",
      "|  2020|      PDT|    POA/BSB|    514.03|      true|     false|\n",
      "|  2020|      PDT|    POA/BSB|    355.03|      true|     false|\n",
      "|  2020|      PDT|    POA/BSB|    355.03|      true|     false|\n",
      "|  2020|      PDT|    BSB/POA|    600.57|      true|     false|\n",
      "|  2020|      MDB|    POA/SDU|    981.03|      true|     false|\n",
      "|  2020|       PT|    POA/BSB|   1112.03|      true|     false|\n",
      "|  2020|       PT|    BSB/POA|   1030.57|      true|     false|\n",
      "|  2020|       PT|BSB/POA/BSB|     904.6|      true|     false|\n",
      "|  2020|      PSD|    FLN/BSB|   1148.03|     false|      true|\n",
      "|  2020|      PTB|    BSB/POA|    647.57|      true|     false|\n",
      "|  2020|      PTB|    BSB/POA|    647.57|      true|     false|\n",
      "|  2020|      PTB|    BSB/POA|    483.57|      true|     false|\n",
      "|  2020|      PTB|POA/BSB/POA|    1298.6|      true|     false|\n",
      "+------+---------+-----------+----------+----------+----------+\n",
      "only showing top 20 rows\n",
      "\n"
     ]
    }
   ],
   "source": [
    "# utilizando funcoes do pyspark para filtro\n",
    "from pyspark.sql.functions import *\n",
    "# Filtrando os dados que nao sao nulos\n",
    "resultdf_trechos = df.filter( (df.sgpartido.isNotNull()) & (df.vlrliquido.isNotNull() & ((df.numano == 2019) | (df.numano == 2020)) )).select('numano'\n",
    "                                                        ,'sgpartido'\n",
    "                                                        ,'txttrecho'\n",
    "                                                        ,'vlrliquido')\n",
    "\n",
    "# Adicionando uma coluna indicando se a palavra \"TAXI\" está presente nos campos específicos\n",
    "resultdf_trechos_POA = resultdf_trechos.withColumn(\"contem_POA\", (instr(upper(col(\"txttrecho\")), \"POA\") > 0))\n",
    "\n",
    "resultdf_trechos_POA_FLN = resultdf_trechos_POA.withColumn(\"contem_FLN\", (instr(upper(col(\"txttrecho\")), \"FLN\") > 0))\n",
    "\n",
    "# Filtrando apenas os registros que contêm a palavra \"TAXI\"\n",
    "resultdf_trechos_POA_FLN_filter = resultdf_trechos_POA_FLN.filter((col(\"contem_POA\")) | (col(\"contem_FLN\")))\n",
    "\n",
    "# Exibindo o resultado\n",
    "resultdf_trechos_POA_FLN_filter.show()\n"
   ]
  },
  {
   "cell_type": "code",
   "execution_count": 4,
   "id": "713f96c2",
   "metadata": {},
   "outputs": [],
   "source": [
    "\n",
    "resultdf_trechos_POA_FLN_filter_float = resultdf_trechos_POA_FLN_filter.withColumn('vlrliquido_float', col(\"vlrliquido\").cast(\"float\"))"
   ]
  },
  {
   "cell_type": "code",
   "execution_count": 5,
   "id": "24acbd0f",
   "metadata": {},
   "outputs": [],
   "source": [
    "# Criando uma tabela temporária em memória com os dados e utilizando consulta SQL\n",
    "resultdf_trechos_POA_FLN_filter_float.createOrReplaceTempView(\"tab_resultdf_trechos_POA_FLN_filter\")"
   ]
  },
  {
   "cell_type": "code",
   "execution_count": 6,
   "id": "289d3ff2",
   "metadata": {},
   "outputs": [],
   "source": [
    "\n",
    "group_df = sparkSession.sql(\"select trechos.numano , trechos.sgpartido, sum(trechos.vlrliquido_float) soma_vlrliquido_float  \\\n",
    "                 from tab_resultdf_trechos_POA_FLN_filter trechos \\\n",
    "                 group by trechos.numano , trechos.sgpartido \\\n",
    "                 order by sum(trechos.vlrliquido_float) desc \\\n",
    "                 \")"
   ]
  },
  {
   "cell_type": "code",
   "execution_count": 7,
   "id": "21a6f6e6",
   "metadata": {},
   "outputs": [],
   "source": [
    "# Criando uma tabela temporária em memória com os dados e utilizando consulta SQL\n",
    "group_df.createOrReplaceTempView(\"tab_resultdf_trechos_POA_FLN_filter_group\")"
   ]
  },
  {
   "cell_type": "code",
   "execution_count": 9,
   "id": "bef53d0c",
   "metadata": {},
   "outputs": [
    {
     "name": "stderr",
     "output_type": "stream",
     "text": [
      "[Stage 6:====================================>                      (5 + 3) / 8]\r"
     ]
    },
    {
     "name": "stdout",
     "output_type": "stream",
     "text": [
      "+------+---------+---------------------+\n",
      "|numano|sgpartido|soma_vlrliquido_float|\n",
      "+------+---------+---------------------+\n",
      "|  2019|       PT|    671757.1794242859|\n",
      "|  2019|       PP|    653009.1891173124|\n",
      "|  2019|      MDB|    620042.6010341644|\n",
      "+------+---------+---------------------+\n",
      "\n"
     ]
    },
    {
     "name": "stderr",
     "output_type": "stream",
     "text": [
      "                                                                                \r"
     ]
    }
   ],
   "source": [
    "df_final = sparkSession.sql(\"select * from tab_resultdf_trechos_POA_FLN_filter_group \").limit(3)\n",
    "\n",
    "df_final.show()"
   ]
  },
  {
   "cell_type": "code",
   "execution_count": null,
   "id": "268bc0a6",
   "metadata": {},
   "outputs": [],
   "source": []
  }
 ],
 "metadata": {
  "kernelspec": {
   "display_name": "Python 3 (ipykernel)",
   "language": "python",
   "name": "python3"
  },
  "language_info": {
   "codemirror_mode": {
    "name": "ipython",
    "version": 3
   },
   "file_extension": ".py",
   "mimetype": "text/x-python",
   "name": "python",
   "nbconvert_exporter": "python",
   "pygments_lexer": "ipython3",
   "version": "3.11.0"
  }
 },
 "nbformat": 4,
 "nbformat_minor": 5
}
