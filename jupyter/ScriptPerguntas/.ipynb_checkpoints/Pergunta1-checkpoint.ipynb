{
 "cells": [
  {
   "cell_type": "markdown",
   "id": "4361aba4",
   "metadata": {},
   "source": [
    "#Qual estado e partido têm a maior soma do valor líquido nos anos de 2009 e 2020?"
   ]
  },
  {
   "cell_type": "code",
   "execution_count": 1,
   "id": "324eadf0",
   "metadata": {},
   "outputs": [],
   "source": [
    "#importando sparksession\n",
    "from pyspark.sql import SparkSession\n",
    "\n",
    "#criando um objeto sparksession object e um appName \n",
    "sparkSession=SparkSession.builder.appName(\"Pergunta1\").getOrCreate()"
   ]
  },
  {
   "cell_type": "code",
   "execution_count": 2,
   "id": "8f9bc41e",
   "metadata": {},
   "outputs": [
    {
     "name": "stdout",
     "output_type": "stream",
     "text": [
      "+--------------+-------------------+------------+-----------+----------------+---------------------+------------+-------------+------+-----------------------+-------+------+----------+----------------+----------+---------+----+-----------------+--------------+--------------------+-------------------------+--------------------+---------+-------------+---------+------------+--------+----------+--------------+\n",
      "|codlegislatura|         datemissao|idedocumento|idecadastro|indtipodocumento|nucarteiraparlamentar|nudeputadoid|nulegislatura|numano|numespecificacaosubcota|numlote|nummes|numparcela|numressarcimento|numsubcota|sgpartido|sguf|txnomeparlamentar|    txtcnpjcpf|        txtdescricao|txtdescricaoespecificacao|       txtfornecedor|txtnumero|txtpassageiro|txttrecho|vlrdocumento|vlrglosa|vlrliquido|vlrrestituicao|\n",
      "+--------------+-------------------+------------+-----------+----------------+---------------------+------------+-------------+------+-----------------------+-------+------+----------+----------------+----------+---------+----+-----------------+--------------+--------------------+-------------------------+--------------------+---------+-------------+---------+------------+--------+----------+--------------+\n",
      "|            56|2020-02-01 00:00:00|     7007086|       NULL|               0|                 NULL|        2442|         2019|  2020|                      0|1672803|     2|         0|            NULL|         5|     PSDB|  NA|LIDERANÇA DO PSDB|27691290000113|DIVULGAÇÃO DA ATI...|                     NULL|CONTENT ASSESSORI...|      432|         NULL|     NULL|         998|       0|       998|          NULL|\n",
      "|            56|2020-02-13 00:00:00|     7017162|       NULL|               4|                 NULL|        2442|         2019|  2020|                      0|1677757|     1|         0|            NULL|         5|     PSDB|  NA|LIDERANÇA DO PSDB|05265605000128|DIVULGAÇÃO DA ATI...|                     NULL|METROPOLE INTERAT...|       46|         NULL|     NULL|        4920|       0|      4920|          NULL|\n",
      "|            56|2020-02-04 00:00:00|     7007754|       NULL|               4|                 NULL|        2442|         2019|  2020|                      0|1673164|     2|         0|            NULL|        13|     PSDB|  NA|LIDERANÇA DO PSDB|04538454000171|FORNECIMENTO DE A...|                     NULL|  AFC ALIMENTOS LTDA|      306|         NULL|     NULL|         511|       0|       511|          NULL|\n",
      "|            56|2020-02-18 00:00:00|     7018634|       NULL|               4|                 NULL|        2442|         2019|  2020|                      0|1678458|     2|         0|            NULL|        13|     PSDB|  NA|LIDERANÇA DO PSDB|04538454000171|FORNECIMENTO DE A...|                     NULL|  AFC ALIMENTOS LTDA|      311|         NULL|     NULL|         186|       0|       186|          NULL|\n",
      "|            56|2020-02-11 00:00:00|     7011106|       NULL|               4|                 NULL|        2442|         2019|  2020|                      0|1674574|     2|         0|            NULL|        13|     PSDB|  NA|LIDERANÇA DO PSDB|22836210000157|FORNECIMENTO DE A...|                     NULL|ARTESANAL SERVICO...|       23|         NULL|     NULL|         740|       0|       740|          NULL|\n",
      "|            56|2020-02-12 00:00:00|     7012913|       NULL|               4|                 NULL|        2442|         2019|  2020|                      0|1675436|     2|         0|            NULL|        13|     PSDB|  NA|LIDERANÇA DO PSDB|23609954000100|FORNECIMENTO DE A...|                     NULL|EMPORIO ARABE BRA...|       29|         NULL|     NULL|      802.95|       0|    802.95|          NULL|\n",
      "|            56|2020-02-17 00:00:00|     7017202|       NULL|               4|                 NULL|        2442|         2019|  2020|                      0|1677777|     2|         0|            NULL|        13|     PSDB|  NA|LIDERANÇA DO PSDB|11813538000131|FORNECIMENTO DE A...|                     NULL|M LELIS CAFETERIA...|    16420|         NULL|     NULL|         730|       0|       730|          NULL|\n",
      "|            56|2020-02-17 00:00:00|     7022388|       NULL|               0|                 NULL|        2439|         2019|  2020|                      0|1680550|     2|         0|            NULL|         1|       PT|  NA|  LIDERANÇA DO PT|08165429000221|MANUTENÇÃO DE ESC...|                     NULL|Digital River do ...| 04587354|         NULL|     NULL|        2100|       0|      2100|          NULL|\n",
      "|            56|2020-02-12 00:00:00|     7012750|       NULL|               4|                 NULL|        2439|         2019|  2020|                      0|1675347|     2|         0|            NULL|         1|       PT|  NA|  LIDERANÇA DO PT|12132854000100|MANUTENÇÃO DE ESC...|                     NULL|WMS COMERCIO DE A...|     2819|         NULL|     NULL|      1298.2|       0|    1298.2|          NULL|\n",
      "|            56|2020-03-03 00:00:00|     7026795|       NULL|               4|                 NULL|        2439|         2019|  2020|                      1|1682527|     3|         0|            NULL|         3|       PT|  NA|  LIDERANÇA DO PT|30642701000195|COMBUSTÍVEIS E LU...|     Veículos Automotores|AUTO POSTO 302 SU...|     2200|         NULL|     NULL|         100|       0|       100|          NULL|\n",
      "|            56|2020-02-03 00:00:00|     7005488|       NULL|               4|                 NULL|        2439|         2019|  2020|                      1|1672130|     2|         0|            NULL|         3|       PT|  NA|  LIDERANÇA DO PT|37063328001058|COMBUSTÍVEIS E LU...|     Veículos Automotores|AUTO SHOPPING DER...|   659284|         NULL|     NULL|      139.76|       0|    139.76|          NULL|\n",
      "|            56|2020-03-03 00:00:00|     7026767|       NULL|               4|                 NULL|        2439|         2019|  2020|                      1|1682517|     3|         0|            NULL|         3|       PT|  NA|  LIDERANÇA DO PT|00306597005166|COMBUSTÍVEIS E LU...|     Veículos Automotores|CASCOL COMBUSTIVE...|   503298|         NULL|     NULL|      167.65|       0|    167.65|          NULL|\n",
      "|            56|2020-01-07 00:00:00|     6994699|       NULL|               4|                 NULL|        2439|         2019|  2020|                      1|1667169|     1|         0|            NULL|         3|       PT|  NA|  LIDERANÇA DO PT|00306597007100|COMBUSTÍVEIS E LU...|     Veículos Automotores|CASCOL COMBUSTIVE...|   900131|         NULL|     NULL|         200|       0|       200|          NULL|\n",
      "|            56|2020-01-14 00:00:00|     6996714|       NULL|               4|                 NULL|        2439|         2019|  2020|                      1|1667983|     1|         0|            NULL|         3|       PT|  NA|  LIDERANÇA DO PT|00306597007100|COMBUSTÍVEIS E LU...|     Veículos Automotores|CASCOL COMBUSTIVE...|   910876|         NULL|     NULL|      231.64|       0|    231.64|          NULL|\n",
      "|            56|2020-01-22 00:00:00|     6997027|       NULL|               4|                 NULL|        2439|         2019|  2020|                      1|1668115|     1|         0|            NULL|         3|       PT|  NA|  LIDERANÇA DO PT|00306597007100|COMBUSTÍVEIS E LU...|     Veículos Automotores|CASCOL COMBUSTIVE...|   923812|         NULL|     NULL|      220.52|       0|    220.52|          NULL|\n",
      "|            56|2020-02-10 00:00:00|     7009135|       NULL|               4|                 NULL|        2439|         2019|  2020|                      1|1673725|     2|         0|            NULL|         3|       PT|  NA|  LIDERANÇA DO PT|08884038000186|COMBUSTÍVEIS E LU...|     Veículos Automotores|FRATELLI POSTO DE...|     1760|         NULL|     NULL|      190.05|       0|    190.05|          NULL|\n",
      "|            56|2020-02-17 00:00:00|     7014622|       NULL|               4|                 NULL|        2439|         2019|  2020|                      1|1676156|     2|         0|            NULL|         3|       PT|  NA|  LIDERANÇA DO PT|08884038000186|COMBUSTÍVEIS E LU...|     Veículos Automotores|FRATELLI POSTO DE...|     3525|         NULL|     NULL|      219.51|       0|    219.51|          NULL|\n",
      "|            56|2020-03-02 00:00:00|     7022576|       NULL|               4|                 NULL|        2439|         2019|  2020|                      1|1680631|     3|         0|            NULL|         3|       PT|  NA|  LIDERANÇA DO PT|08884038000186|COMBUSTÍVEIS E LU...|     Veículos Automotores|FRATELLI POSTO DE...|     5778|         NULL|     NULL|      224.02|       0|    224.02|          NULL|\n",
      "|            56|2020-01-29 00:00:00|     7000239|       NULL|               4|                 NULL|        2439|         2019|  2020|                      1|1669822|     1|         0|            NULL|         3|       PT|  NA|  LIDERANÇA DO PT|08884038000186|COMBUSTÍVEIS E LU...|     Veículos Automotores|FRATELLI POSTO DE...|      962|         NULL|     NULL|      195.03|       0|    195.03|          NULL|\n",
      "|            56|2020-02-03 00:00:00|     7002571|       NULL|               4|                 NULL|        2439|         2019|  2020|                      1|1670768|     2|         0|            NULL|         3|       PT|  NA|  LIDERANÇA DO PT|08414749000197|COMBUSTÍVEIS E LU...|     Veículos Automotores|G3 Auto Posto Ltd...|   415130|         NULL|     NULL|      156.93|       0|    156.93|          NULL|\n",
      "+--------------+-------------------+------------+-----------+----------------+---------------------+------------+-------------+------+-----------------------+-------+------+----------+----------------+----------+---------+----+-----------------+--------------+--------------------+-------------------------+--------------------+---------+-------------+---------+------------+--------+----------+--------------+\n",
      "only showing top 20 rows\n",
      "\n"
     ]
    }
   ],
   "source": [
    "# Fazendo a leitura do arquivo food_coded.csv\n",
    "#df = spark.read.option(\"header\", \"true\").csv(\"/Havan_Labs/Dados/cota-parlamentar.csv\")\n",
    "\n",
    "#Leitura de arquivo CSV\n",
    "df= spark.read.format(\"csv\").option(\"header\", \"true\").load(\"/Havan_Labs/Dados/cota-parlamentar.csv\")\n",
    "df.show()"
   ]
  },
  {
   "cell_type": "code",
   "execution_count": 3,
   "id": "5e165321",
   "metadata": {},
   "outputs": [],
   "source": [
    "# utilizando funcoes do pyspark para filtro\n",
    "from pyspark.sql.functions import *\n",
    "# Filtrando os dados que nao sao nulos\n",
    "resultdf1 = df.filter(df.vlrliquido.isNotNull()).select('sguf','sgpartido', 'numano','vlrliquido')"
   ]
  },
  {
   "cell_type": "code",
   "execution_count": 5,
   "id": "a69e5679",
   "metadata": {},
   "outputs": [
    {
     "name": "stdout",
     "output_type": "stream",
     "text": [
      "+----+---------+-------------------+------+----------+----------------+\n",
      "|sguf|sgpartido|         datemissao|numano|vlrliquido|vlrliquido_float|\n",
      "+----+---------+-------------------+------+----------+----------------+\n",
      "|  NA|     PSDB|2020-02-01 00:00:00|  2020|       998|           998.0|\n",
      "|  NA|     PSDB|2020-02-13 00:00:00|  2020|      4920|          4920.0|\n",
      "|  NA|     PSDB|2020-02-04 00:00:00|  2020|       511|           511.0|\n",
      "|  NA|     PSDB|2020-02-18 00:00:00|  2020|       186|           186.0|\n",
      "|  NA|     PSDB|2020-02-11 00:00:00|  2020|       740|           740.0|\n",
      "|  NA|     PSDB|2020-02-12 00:00:00|  2020|    802.95|          802.95|\n",
      "|  NA|     PSDB|2020-02-17 00:00:00|  2020|       730|           730.0|\n",
      "|  NA|       PT|2020-02-17 00:00:00|  2020|      2100|          2100.0|\n",
      "|  NA|       PT|2020-02-12 00:00:00|  2020|    1298.2|          1298.2|\n",
      "|  NA|       PT|2020-03-03 00:00:00|  2020|       100|           100.0|\n",
      "|  NA|       PT|2020-02-03 00:00:00|  2020|    139.76|          139.76|\n",
      "|  NA|       PT|2020-03-03 00:00:00|  2020|    167.65|          167.65|\n",
      "|  NA|       PT|2020-01-07 00:00:00|  2020|       200|           200.0|\n",
      "|  NA|       PT|2020-01-14 00:00:00|  2020|    231.64|          231.64|\n",
      "|  NA|       PT|2020-01-22 00:00:00|  2020|    220.52|          220.52|\n",
      "|  NA|       PT|2020-02-10 00:00:00|  2020|    190.05|          190.05|\n",
      "|  NA|       PT|2020-02-17 00:00:00|  2020|    219.51|          219.51|\n",
      "|  NA|       PT|2020-03-02 00:00:00|  2020|    224.02|          224.02|\n",
      "|  NA|       PT|2020-01-29 00:00:00|  2020|    195.03|          195.03|\n",
      "|  NA|       PT|2020-02-03 00:00:00|  2020|    156.93|          156.93|\n",
      "+----+---------+-------------------+------+----------+----------------+\n",
      "only showing top 20 rows\n",
      "\n"
     ]
    }
   ],
   "source": [
    "resultdf2 = resultdf1.withColumn('vlrliquido_float', col(\"vlrliquido\").cast(\"float\"))\n",
    "resultdf2.show()"
   ]
  },
  {
   "cell_type": "code",
   "execution_count": 7,
   "id": "a98986f5",
   "metadata": {},
   "outputs": [
    {
     "name": "stdout",
     "output_type": "stream",
     "text": [
      "+------------------+------+--------------------+\n",
      "|         sgpartido|numano|          vlrliquido|\n",
      "+------------------+------+--------------------+\n",
      "|              PMDB|  2009|1.9889504355190083E7|\n",
      "|                PT|  2009|1.7826780610277496E7|\n",
      "|               DEM|  2009|1.2332783555081643E7|\n",
      "|              PSDB|  2009|1.2173325056210913E7|\n",
      "|                PR|  2009|1.0646708209842078E7|\n",
      "|              PP**|  2009|   8228638.448057823|\n",
      "|               PSB|  2009|   5966652.899384318|\n",
      "|               PTB|  2009|   5341844.764097422|\n",
      "|               PDT|  2009|   5224550.286013164|\n",
      "|               PSC|  2009|  3771581.5185465794|\n",
      "|               PPS|  2009|   3406276.638771765|\n",
      "|                PV|  2009|   3223068.557733096|\n",
      "|             PCdoB|  2009|  2786721.8975164127|\n",
      "|               PRB|  2009|  1825523.9439693354|\n",
      "|               PMN|  2009|   695135.8903721422|\n",
      "|               PTC|  2009|   651386.9408157468|\n",
      "|              PSOL|  2009|    605515.560562551|\n",
      "|               PHS|  2009|   582116.8387624025|\n",
      "|             PTdoB|  2009|  224137.42978024483|\n",
      "|PROFESSOR LUIZINHO|  2009|   1101.239990234375|\n",
      "+------------------+------+--------------------+\n",
      "only showing top 20 rows\n",
      "\n"
     ]
    }
   ],
   "source": [
    "# Criando uma tabela temporária em memória com os dados e utilizando consulta SQL\n",
    "resultdf2.createOrReplaceTempView(\"tab_cota_pergunta_1\")\n",
    "sparkSession.sql(\"select sgpartido, numano, sum(vlrliquido_float) as vlrliquido from tab_cota_pergunta_1 where numano in (2009) group by sgpartido, numano order by 3 desc \").show()"
   ]
  },
  {
   "cell_type": "code",
   "execution_count": 8,
   "id": "cd9a172b",
   "metadata": {},
   "outputs": [
    {
     "name": "stdout",
     "output_type": "stream",
     "text": [
      "+-------------+------+------------------+\n",
      "|    sgpartido|numano|        vlrliquido|\n",
      "+-------------+------+------------------+\n",
      "|           PT|  2020|2057873.0085260123|\n",
      "|          PSL|  2020|1804238.8787842467|\n",
      "|           PL|  2020|1427774.0510574207|\n",
      "|         PSDB|  2020|1327280.2222959995|\n",
      "|           PP|  2020| 1292527.090765901|\n",
      "|          MDB|  2020|1203102.1309095323|\n",
      "| REPUBLICANOS|  2020| 1183019.289836444|\n",
      "|          PSD|  2020|  1083509.13096115|\n",
      "|          PDT|  2020| 1081421.140525207|\n",
      "|          PSB|  2020| 883650.9000884742|\n",
      "|          DEM|  2020| 805049.9594730586|\n",
      "|         PROS|  2020| 479833.5699388385|\n",
      "|SOLIDARIEDADE|  2020| 457417.8297277093|\n",
      "|         PODE|  2020| 431559.0593776107|\n",
      "|          PTB|  2020|391465.46047484875|\n",
      "|        PCdoB|  2020|   386863.09004125|\n",
      "|         PSOL|  2020|311827.68063397147|\n",
      "|          PSC|  2020| 250686.0802590549|\n",
      "|       AVANTE|  2020| 207669.3101196289|\n",
      "|     PATRIOTA|  2020|188585.41990172863|\n",
      "+-------------+------+------------------+\n",
      "only showing top 20 rows\n",
      "\n"
     ]
    }
   ],
   "source": [
    "# Criando uma tabela temporária em memória com os dados e utilizando consulta SQL\n",
    "resultdf2.createOrReplaceTempView(\"tab_cota_pergunta_1\")\n",
    "sparkSession.sql(\"select sgpartido, numano, sum(vlrliquido_float) as vlrliquido from tab_cota_pergunta_1 where numano in (2020) group by sgpartido, numano order by 3 desc \").show()"
   ]
  },
  {
   "cell_type": "code",
   "execution_count": null,
   "id": "6d430dc2",
   "metadata": {},
   "outputs": [],
   "source": []
  }
 ],
 "metadata": {
  "kernelspec": {
   "display_name": "Python 3 (ipykernel)",
   "language": "python",
   "name": "python3"
  },
  "language_info": {
   "codemirror_mode": {
    "name": "ipython",
    "version": 3
   },
   "file_extension": ".py",
   "mimetype": "text/x-python",
   "name": "python",
   "nbconvert_exporter": "python",
   "pygments_lexer": "ipython3",
   "version": "3.11.5"
  }
 },
 "nbformat": 4,
 "nbformat_minor": 5
}
