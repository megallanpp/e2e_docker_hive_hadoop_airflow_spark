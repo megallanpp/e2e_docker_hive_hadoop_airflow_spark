{
 "cells": [
  {
   "cell_type": "markdown",
   "id": "4361aba4",
   "metadata": {},
   "source": [
    "#Considerando o ano de 2019, quais foram os 5 partidos que mais gastaram (valor líquido) com serviço de táxi e que tiveram pelo menos uma restituição nesse período? (Apresentar ambos os valores limitados a duas casas decimais)."
   ]
  },
  {
   "cell_type": "code",
   "execution_count": 33,
   "id": "324eadf0",
   "metadata": {},
   "outputs": [],
   "source": [
    "#importando sparksession\n",
    "from pyspark.sql import SparkSession\n",
    "\n",
    "#criando um objeto sparksession object e um appName \n",
    "sparkSession=SparkSession.builder.appName(\"Pergunta4\").getOrCreate()"
   ]
  },
  {
   "cell_type": "code",
   "execution_count": 34,
   "id": "8f9bc41e",
   "metadata": {},
   "outputs": [
    {
     "name": "stdout",
     "output_type": "stream",
     "text": [
      "+--------------+-------------------+------------+-----------+----------------+---------------------+------------+-------------+------+-----------------------+-------+------+----------+----------------+----------+---------+----+-----------------+--------------+--------------------+-------------------------+--------------------+---------+-------------+---------+------------+--------+----------+--------------+\n",
      "|codlegislatura|         datemissao|idedocumento|idecadastro|indtipodocumento|nucarteiraparlamentar|nudeputadoid|nulegislatura|numano|numespecificacaosubcota|numlote|nummes|numparcela|numressarcimento|numsubcota|sgpartido|sguf|txnomeparlamentar|    txtcnpjcpf|        txtdescricao|txtdescricaoespecificacao|       txtfornecedor|txtnumero|txtpassageiro|txttrecho|vlrdocumento|vlrglosa|vlrliquido|vlrrestituicao|\n",
      "+--------------+-------------------+------------+-----------+----------------+---------------------+------------+-------------+------+-----------------------+-------+------+----------+----------------+----------+---------+----+-----------------+--------------+--------------------+-------------------------+--------------------+---------+-------------+---------+------------+--------+----------+--------------+\n",
      "|            56|2020-02-01 00:00:00|     7007086|       NULL|               0|                 NULL|        2442|         2019|  2020|                      0|1672803|     2|         0|            NULL|         5|     PSDB|  NA|LIDERANÇA DO PSDB|27691290000113|DIVULGAÇÃO DA ATI...|                     NULL|CONTENT ASSESSORI...|      432|         NULL|     NULL|         998|       0|       998|          NULL|\n",
      "|            56|2020-02-13 00:00:00|     7017162|       NULL|               4|                 NULL|        2442|         2019|  2020|                      0|1677757|     1|         0|            NULL|         5|     PSDB|  NA|LIDERANÇA DO PSDB|05265605000128|DIVULGAÇÃO DA ATI...|                     NULL|METROPOLE INTERAT...|       46|         NULL|     NULL|        4920|       0|      4920|          NULL|\n",
      "|            56|2020-02-04 00:00:00|     7007754|       NULL|               4|                 NULL|        2442|         2019|  2020|                      0|1673164|     2|         0|            NULL|        13|     PSDB|  NA|LIDERANÇA DO PSDB|04538454000171|FORNECIMENTO DE A...|                     NULL|  AFC ALIMENTOS LTDA|      306|         NULL|     NULL|         511|       0|       511|          NULL|\n",
      "|            56|2020-02-18 00:00:00|     7018634|       NULL|               4|                 NULL|        2442|         2019|  2020|                      0|1678458|     2|         0|            NULL|        13|     PSDB|  NA|LIDERANÇA DO PSDB|04538454000171|FORNECIMENTO DE A...|                     NULL|  AFC ALIMENTOS LTDA|      311|         NULL|     NULL|         186|       0|       186|          NULL|\n",
      "|            56|2020-02-11 00:00:00|     7011106|       NULL|               4|                 NULL|        2442|         2019|  2020|                      0|1674574|     2|         0|            NULL|        13|     PSDB|  NA|LIDERANÇA DO PSDB|22836210000157|FORNECIMENTO DE A...|                     NULL|ARTESANAL SERVICO...|       23|         NULL|     NULL|         740|       0|       740|          NULL|\n",
      "|            56|2020-02-12 00:00:00|     7012913|       NULL|               4|                 NULL|        2442|         2019|  2020|                      0|1675436|     2|         0|            NULL|        13|     PSDB|  NA|LIDERANÇA DO PSDB|23609954000100|FORNECIMENTO DE A...|                     NULL|EMPORIO ARABE BRA...|       29|         NULL|     NULL|      802.95|       0|    802.95|          NULL|\n",
      "|            56|2020-02-17 00:00:00|     7017202|       NULL|               4|                 NULL|        2442|         2019|  2020|                      0|1677777|     2|         0|            NULL|        13|     PSDB|  NA|LIDERANÇA DO PSDB|11813538000131|FORNECIMENTO DE A...|                     NULL|M LELIS CAFETERIA...|    16420|         NULL|     NULL|         730|       0|       730|          NULL|\n",
      "|            56|2020-02-17 00:00:00|     7022388|       NULL|               0|                 NULL|        2439|         2019|  2020|                      0|1680550|     2|         0|            NULL|         1|       PT|  NA|  LIDERANÇA DO PT|08165429000221|MANUTENÇÃO DE ESC...|                     NULL|Digital River do ...| 04587354|         NULL|     NULL|        2100|       0|      2100|          NULL|\n",
      "|            56|2020-02-12 00:00:00|     7012750|       NULL|               4|                 NULL|        2439|         2019|  2020|                      0|1675347|     2|         0|            NULL|         1|       PT|  NA|  LIDERANÇA DO PT|12132854000100|MANUTENÇÃO DE ESC...|                     NULL|WMS COMERCIO DE A...|     2819|         NULL|     NULL|      1298.2|       0|    1298.2|          NULL|\n",
      "|            56|2020-03-03 00:00:00|     7026795|       NULL|               4|                 NULL|        2439|         2019|  2020|                      1|1682527|     3|         0|            NULL|         3|       PT|  NA|  LIDERANÇA DO PT|30642701000195|COMBUSTÍVEIS E LU...|     Veículos Automotores|AUTO POSTO 302 SU...|     2200|         NULL|     NULL|         100|       0|       100|          NULL|\n",
      "|            56|2020-02-03 00:00:00|     7005488|       NULL|               4|                 NULL|        2439|         2019|  2020|                      1|1672130|     2|         0|            NULL|         3|       PT|  NA|  LIDERANÇA DO PT|37063328001058|COMBUSTÍVEIS E LU...|     Veículos Automotores|AUTO SHOPPING DER...|   659284|         NULL|     NULL|      139.76|       0|    139.76|          NULL|\n",
      "|            56|2020-03-03 00:00:00|     7026767|       NULL|               4|                 NULL|        2439|         2019|  2020|                      1|1682517|     3|         0|            NULL|         3|       PT|  NA|  LIDERANÇA DO PT|00306597005166|COMBUSTÍVEIS E LU...|     Veículos Automotores|CASCOL COMBUSTIVE...|   503298|         NULL|     NULL|      167.65|       0|    167.65|          NULL|\n",
      "|            56|2020-01-07 00:00:00|     6994699|       NULL|               4|                 NULL|        2439|         2019|  2020|                      1|1667169|     1|         0|            NULL|         3|       PT|  NA|  LIDERANÇA DO PT|00306597007100|COMBUSTÍVEIS E LU...|     Veículos Automotores|CASCOL COMBUSTIVE...|   900131|         NULL|     NULL|         200|       0|       200|          NULL|\n",
      "|            56|2020-01-14 00:00:00|     6996714|       NULL|               4|                 NULL|        2439|         2019|  2020|                      1|1667983|     1|         0|            NULL|         3|       PT|  NA|  LIDERANÇA DO PT|00306597007100|COMBUSTÍVEIS E LU...|     Veículos Automotores|CASCOL COMBUSTIVE...|   910876|         NULL|     NULL|      231.64|       0|    231.64|          NULL|\n",
      "|            56|2020-01-22 00:00:00|     6997027|       NULL|               4|                 NULL|        2439|         2019|  2020|                      1|1668115|     1|         0|            NULL|         3|       PT|  NA|  LIDERANÇA DO PT|00306597007100|COMBUSTÍVEIS E LU...|     Veículos Automotores|CASCOL COMBUSTIVE...|   923812|         NULL|     NULL|      220.52|       0|    220.52|          NULL|\n",
      "|            56|2020-02-10 00:00:00|     7009135|       NULL|               4|                 NULL|        2439|         2019|  2020|                      1|1673725|     2|         0|            NULL|         3|       PT|  NA|  LIDERANÇA DO PT|08884038000186|COMBUSTÍVEIS E LU...|     Veículos Automotores|FRATELLI POSTO DE...|     1760|         NULL|     NULL|      190.05|       0|    190.05|          NULL|\n",
      "|            56|2020-02-17 00:00:00|     7014622|       NULL|               4|                 NULL|        2439|         2019|  2020|                      1|1676156|     2|         0|            NULL|         3|       PT|  NA|  LIDERANÇA DO PT|08884038000186|COMBUSTÍVEIS E LU...|     Veículos Automotores|FRATELLI POSTO DE...|     3525|         NULL|     NULL|      219.51|       0|    219.51|          NULL|\n",
      "|            56|2020-03-02 00:00:00|     7022576|       NULL|               4|                 NULL|        2439|         2019|  2020|                      1|1680631|     3|         0|            NULL|         3|       PT|  NA|  LIDERANÇA DO PT|08884038000186|COMBUSTÍVEIS E LU...|     Veículos Automotores|FRATELLI POSTO DE...|     5778|         NULL|     NULL|      224.02|       0|    224.02|          NULL|\n",
      "|            56|2020-01-29 00:00:00|     7000239|       NULL|               4|                 NULL|        2439|         2019|  2020|                      1|1669822|     1|         0|            NULL|         3|       PT|  NA|  LIDERANÇA DO PT|08884038000186|COMBUSTÍVEIS E LU...|     Veículos Automotores|FRATELLI POSTO DE...|      962|         NULL|     NULL|      195.03|       0|    195.03|          NULL|\n",
      "|            56|2020-02-03 00:00:00|     7002571|       NULL|               4|                 NULL|        2439|         2019|  2020|                      1|1670768|     2|         0|            NULL|         3|       PT|  NA|  LIDERANÇA DO PT|08414749000197|COMBUSTÍVEIS E LU...|     Veículos Automotores|G3 Auto Posto Ltd...|   415130|         NULL|     NULL|      156.93|       0|    156.93|          NULL|\n",
      "+--------------+-------------------+------------+-----------+----------------+---------------------+------------+-------------+------+-----------------------+-------+------+----------+----------------+----------+---------+----+-----------------+--------------+--------------------+-------------------------+--------------------+---------+-------------+---------+------------+--------+----------+--------------+\n",
      "only showing top 20 rows\n",
      "\n"
     ]
    }
   ],
   "source": [
    "# Fazendo a leitura do arquivo food_coded.csv\n",
    "#df = spark.read.option(\"header\", \"true\").csv(\"/Havan_Labs/Dados/cota-parlamentar.csv\")\n",
    "\n",
    "#Leitura de arquivo CSV\n",
    "df= spark.read.format(\"csv\").option(\"header\", \"true\").load(\"/Havan_Labs/Dados/cota-parlamentar.csv\")\n",
    "df.show()"
   ]
  },
  {
   "cell_type": "code",
   "execution_count": 35,
   "id": "5e165321",
   "metadata": {},
   "outputs": [
    {
     "name": "stdout",
     "output_type": "stream",
     "text": [
      "+------+---------+--------------------+------------+--------+----------+--------------+-----------+\n",
      "|numano|sgpartido|       txtfornecedor|vlrdocumento|vlrglosa|vlrliquido|vlrrestituicao|contem_taxi|\n",
      "+------+---------+--------------------+------------+--------+----------+--------------+-----------+\n",
      "|  2019|      PSC|           SINPETAXI|          30|       0|        30|          NULL|       true|\n",
      "|  2019|       PT|ASSOCIACAO DOS MO...|          30|       0|        30|          NULL|       true|\n",
      "|  2019|       PT|ASSOCIACAO DOS MO...|          30|       0|        30|          NULL|       true|\n",
      "|  2019|       PT|ASSOCIACAO DOS MO...|          44|       0|        44|          NULL|       true|\n",
      "|  2019|       PT|ASSOCIACAO DOS MO...|          44|       0|        44|          NULL|       true|\n",
      "|  2019|       PT|ASSOCIACAO DOS MO...|          44|       0|        44|          NULL|       true|\n",
      "|  2019|       PT|ASSOCIACAO DOS MO...|          44|       0|        44|          NULL|       true|\n",
      "|  2019|       PT|ASSOCIACAO RODO R...|       70.35|       0|     70.35|          NULL|       true|\n",
      "|  2019|       PT|           SINPETAXI|          45|       0|        45|          NULL|       true|\n",
      "|  2019|CIDADANIA|SINDICATO DOS PER...|          52|       0|        52|          NULL|       true|\n",
      "|  2019|       PT|           SINPETAXI|          40|       0|        40|          NULL|       true|\n",
      "|  2019|       PT|           ASPERTAXI|          13|       0|        13|          NULL|       true|\n",
      "|  2019|       PT|           ASPERTAXI|          10|       0|        10|          NULL|       true|\n",
      "|  2019|       PT|           ASPERTAXI|          16|       2|        14|          NULL|       true|\n",
      "|  2019|       PT|COOPERATIVA DOS T...|          22|       0|        22|          NULL|       true|\n",
      "|  2019|       PT|SINDICATO DOS PER...|          22|       0|        22|          NULL|       true|\n",
      "|  2019|       PT|SINDICATO DOS PER...|          22|       0|        22|          NULL|       true|\n",
      "|  2019|       PT|SINDICATO DOS PER...|          21|       0|        21|          NULL|       true|\n",
      "|  2019|       PT|SINDICATO DOS PER...|          19|       0|        19|          NULL|       true|\n",
      "|  2019|       PT|SINDICATO DOS PER...|          22|       0|        22|          NULL|       true|\n",
      "+------+---------+--------------------+------------+--------+----------+--------------+-----------+\n",
      "only showing top 20 rows\n",
      "\n"
     ]
    }
   ],
   "source": [
    "# utilizando funcoes do pyspark para filtro\n",
    "from pyspark.sql.functions import *\n",
    "# Filtrando os dados que nao sao nulos\n",
    "resultdf_taxi = df.filter( (df.sgpartido.isNotNull()) & (df.vlrliquido.isNotNull() & (df.numano == 2019) )).select('numano'\n",
    "                                                        ,'sgpartido'\n",
    "                                                        ,'txtfornecedor'\n",
    "                                                        ,'vlrdocumento'\n",
    "                                                        ,'vlrglosa'\n",
    "                                                        ,'vlrliquido'\n",
    "                                                        ,'vlrrestituicao')\n",
    "\n",
    "# Adicionando uma coluna indicando se a palavra \"TAXI\" está presente nos campos específicos\n",
    "resultdf_taxi_com_taxi = resultdf_taxi.withColumn(\"contem_taxi\",  \n",
    "                                                   (instr(upper(col(\"txtfornecedor\")), \"TAXI\") > 0) | \n",
    "                                                   (instr(upper(col(\"vlrdocumento\")), \"TAXI\") > 0) | \n",
    "                                                   (instr(upper(col(\"vlrglosa\")), \"TAXI\") > 0) | \n",
    "                                                   (instr(upper(col(\"vlrliquido\")), \"TAXI\") > 0) | \n",
    "                                                   (instr(upper(col(\"vlrrestituicao\")), \"TAXI\") > 0))\n",
    "\n",
    "# Filtrando apenas os registros que contêm a palavra \"TAXI\"\n",
    "resultdf_taxi_com_taxi_2 = resultdf_taxi_com_taxi.filter(col(\"contem_taxi\"))\n",
    "\n",
    "# Exibindo o resultado\n",
    "resultdf_taxi_com_taxi_2.show()\n"
   ]
  },
  {
   "cell_type": "code",
   "execution_count": 36,
   "id": "a98853ec",
   "metadata": {},
   "outputs": [
    {
     "name": "stdout",
     "output_type": "stream",
     "text": [
      "+------+---------+--------------------+------------+--------+----------+--------------+-----------+------------------+--------------+----------------+--------------------+\n",
      "|numano|sgpartido|       txtfornecedor|vlrdocumento|vlrglosa|vlrliquido|vlrrestituicao|contem_taxi|vlrdocumento_float|vlrglosa_float|vlrliquido_float|vlrrestituicao_float|\n",
      "+------+---------+--------------------+------------+--------+----------+--------------+-----------+------------------+--------------+----------------+--------------------+\n",
      "|  2019|      PSC|           SINPETAXI|          30|       0|        30|          NULL|       true|              30.0|           0.0|            30.0|                NULL|\n",
      "|  2019|       PT|ASSOCIACAO DOS MO...|          30|       0|        30|          NULL|       true|              30.0|           0.0|            30.0|                NULL|\n",
      "|  2019|       PT|ASSOCIACAO DOS MO...|          30|       0|        30|          NULL|       true|              30.0|           0.0|            30.0|                NULL|\n",
      "|  2019|       PT|ASSOCIACAO DOS MO...|          44|       0|        44|          NULL|       true|              44.0|           0.0|            44.0|                NULL|\n",
      "|  2019|       PT|ASSOCIACAO DOS MO...|          44|       0|        44|          NULL|       true|              44.0|           0.0|            44.0|                NULL|\n",
      "|  2019|       PT|ASSOCIACAO DOS MO...|          44|       0|        44|          NULL|       true|              44.0|           0.0|            44.0|                NULL|\n",
      "|  2019|       PT|ASSOCIACAO DOS MO...|          44|       0|        44|          NULL|       true|              44.0|           0.0|            44.0|                NULL|\n",
      "|  2019|       PT|ASSOCIACAO RODO R...|       70.35|       0|     70.35|          NULL|       true|             70.35|           0.0|           70.35|                NULL|\n",
      "|  2019|       PT|           SINPETAXI|          45|       0|        45|          NULL|       true|              45.0|           0.0|            45.0|                NULL|\n",
      "|  2019|CIDADANIA|SINDICATO DOS PER...|          52|       0|        52|          NULL|       true|              52.0|           0.0|            52.0|                NULL|\n",
      "|  2019|       PT|           SINPETAXI|          40|       0|        40|          NULL|       true|              40.0|           0.0|            40.0|                NULL|\n",
      "|  2019|       PT|           ASPERTAXI|          13|       0|        13|          NULL|       true|              13.0|           0.0|            13.0|                NULL|\n",
      "|  2019|       PT|           ASPERTAXI|          10|       0|        10|          NULL|       true|              10.0|           0.0|            10.0|                NULL|\n",
      "|  2019|       PT|           ASPERTAXI|          16|       2|        14|          NULL|       true|              16.0|           2.0|            14.0|                NULL|\n",
      "|  2019|       PT|COOPERATIVA DOS T...|          22|       0|        22|          NULL|       true|              22.0|           0.0|            22.0|                NULL|\n",
      "|  2019|       PT|SINDICATO DOS PER...|          22|       0|        22|          NULL|       true|              22.0|           0.0|            22.0|                NULL|\n",
      "|  2019|       PT|SINDICATO DOS PER...|          22|       0|        22|          NULL|       true|              22.0|           0.0|            22.0|                NULL|\n",
      "|  2019|       PT|SINDICATO DOS PER...|          21|       0|        21|          NULL|       true|              21.0|           0.0|            21.0|                NULL|\n",
      "|  2019|       PT|SINDICATO DOS PER...|          19|       0|        19|          NULL|       true|              19.0|           0.0|            19.0|                NULL|\n",
      "|  2019|       PT|SINDICATO DOS PER...|          22|       0|        22|          NULL|       true|              22.0|           0.0|            22.0|                NULL|\n",
      "+------+---------+--------------------+------------+--------+----------+--------------+-----------+------------------+--------------+----------------+--------------------+\n",
      "only showing top 20 rows\n",
      "\n"
     ]
    }
   ],
   "source": [
    "resultdf_taxi_com_taxi_3 = resultdf_taxi_com_taxi_2.withColumn('vlrdocumento_float', col(\"vlrdocumento\").cast(\"float\"))\n",
    "resultdf_taxi_com_taxi_4 = resultdf_taxi_com_taxi_3.withColumn('vlrglosa_float', col(\"vlrglosa\").cast(\"float\"))\n",
    "resultdf_taxi_com_taxi_5 = resultdf_taxi_com_taxi_4.withColumn('vlrliquido_float', col(\"vlrliquido\").cast(\"float\"))\n",
    "resultdf_taxi_com_taxi_6 = resultdf_taxi_com_taxi_5.withColumn('vlrrestituicao_float', col(\"vlrrestituicao\").cast(\"float\"))\n",
    "\n",
    "resultdf_taxi_com_taxi_6.show()"
   ]
  },
  {
   "cell_type": "code",
   "execution_count": 37,
   "id": "a69e5679",
   "metadata": {},
   "outputs": [],
   "source": [
    "# Criando uma tabela temporária em memória com os dados e utilizando consulta SQL\n",
    "resultdf_taxi_com_taxi_6.createOrReplaceTempView(\"tab_cota_pergunta_4_taxi\")"
   ]
  },
  {
   "cell_type": "code",
   "execution_count": 38,
   "id": "d6a32654",
   "metadata": {},
   "outputs": [
    {
     "name": "stdout",
     "output_type": "stream",
     "text": [
      "+------+------------+-------------------+\n",
      "|numano|   sgpartido|soma_vlrrestituicao|\n",
      "+------+------------+-------------------+\n",
      "|  2019|         MDB| 1300.7500247955322|\n",
      "|  2019|        NOVO|  341.9600028991699|\n",
      "|  2019|       PATRI|  9.029999732971191|\n",
      "|  2019|       PCdoB|               15.0|\n",
      "|  2019|         PDT| 1414.9100017547607|\n",
      "|  2019|          PL|  731.2600004673004|\n",
      "|  2019|          PP|  9816.049863815308|\n",
      "|  2019|         PPS|  6.800000190734863|\n",
      "|  2019|          PR|  20.34000015258789|\n",
      "|  2019|        PROS|              170.0|\n",
      "|  2019|         PSB| 300.73999786376953|\n",
      "|  2019|         PSC|  231.1599998474121|\n",
      "|  2019|         PSD| 20275.859972953796|\n",
      "|  2019|        PSDB|    16542.580078125|\n",
      "|  2019|         PSL|   9876.58001089096|\n",
      "|  2019|          PT|  4440.750100135803|\n",
      "|  2019|         PTB| 45.369998931884766|\n",
      "|  2019|REPUBLICANOS|             8000.0|\n",
      "+------+------------+-------------------+\n",
      "\n"
     ]
    }
   ],
   "source": [
    "from pyspark.sql.window import Window\n",
    "\n",
    "# utilizando funcoes do pyspark para filtro\n",
    "from pyspark.sql.functions import *\n",
    "# Filtrando os dados que nao sao nulos\n",
    "resultdf_restituicao = df.filter((df.sgpartido.isNotNull()) & (df.vlrrestituicao.isNotNull() & (df.numano == 2019) )).select('numano','sgpartido','vlrrestituicao')\n",
    "\n",
    "resultdf_restituicao_2 = resultdf_restituicao.withColumn('vlrrestituicao_float', col(\"vlrrestituicao\").cast(\"float\"))\n",
    "\n",
    "# Criando uma janela para a soma por grupo\n",
    "window_spec = Window.partitionBy(\"numano\", \"sgpartido\")\n",
    "\n",
    "# Adicionando uma nova coluna com a soma dos valores por grupo\n",
    "resultdf_restituicao_3 = resultdf_restituicao_2.withColumn('soma_vlrrestituicao', sum('vlrrestituicao_float').over(window_spec))\n",
    "\n",
    "# Removendo as colunas desnecessárias\n",
    "resultdf_restituicao_4 = resultdf_restituicao_3.drop('vlrrestituicao', 'vlrrestituicao_float')\n",
    "\n",
    "# Removendo duplicatas, caso existam\n",
    "resultdf_restituicao_5 = resultdf_restituicao_4.dropDuplicates()\n",
    "\n",
    "resultdf_restituicao_5.show()"
   ]
  },
  {
   "cell_type": "code",
   "execution_count": 39,
   "id": "82429906",
   "metadata": {},
   "outputs": [],
   "source": [
    "# Criando uma tabela temporária em memória com os dados e utilizando consulta SQL\n",
    "resultdf_restituicao_5.createOrReplaceTempView(\"tab_cota_pergunta_4_restituicao_group\")"
   ]
  },
  {
   "cell_type": "code",
   "execution_count": 40,
   "id": "8969edaf",
   "metadata": {},
   "outputs": [
    {
     "name": "stdout",
     "output_type": "stream",
     "text": [
      "+------+------------+-------------------+\n",
      "|numano|   sgpartido|soma_vlrrestituicao|\n",
      "+------+------------+-------------------+\n",
      "|  2019|         MDB| 1300.7500247955322|\n",
      "|  2019|        NOVO|  341.9600028991699|\n",
      "|  2019|       PATRI|  9.029999732971191|\n",
      "|  2019|       PCdoB|               15.0|\n",
      "|  2019|         PDT| 1414.9100017547607|\n",
      "|  2019|          PL|  731.2600004673004|\n",
      "|  2019|          PP|  9816.049863815308|\n",
      "|  2019|         PPS|  6.800000190734863|\n",
      "|  2019|          PR|  20.34000015258789|\n",
      "|  2019|        PROS|              170.0|\n",
      "|  2019|         PSB| 300.73999786376953|\n",
      "|  2019|         PSC|  231.1599998474121|\n",
      "|  2019|         PSD| 20275.859972953796|\n",
      "|  2019|        PSDB|    16542.580078125|\n",
      "|  2019|         PSL|   9876.58001089096|\n",
      "|  2019|          PT|  4440.750100135803|\n",
      "|  2019|         PTB| 45.369998931884766|\n",
      "|  2019|REPUBLICANOS|             8000.0|\n",
      "+------+------------+-------------------+\n",
      "\n"
     ]
    }
   ],
   "source": [
    "\n",
    "sparkSession.sql(\"select * from tab_cota_pergunta_4_restituicao_group  \").show()"
   ]
  },
  {
   "cell_type": "code",
   "execution_count": 41,
   "id": "af7787a1",
   "metadata": {},
   "outputs": [
    {
     "name": "stdout",
     "output_type": "stream",
     "text": [
      "+------+---------+--------------------+------------+--------+----------+--------------+-----------+------------------+--------------+----------------+--------------------+\n",
      "|numano|sgpartido|       txtfornecedor|vlrdocumento|vlrglosa|vlrliquido|vlrrestituicao|contem_taxi|vlrdocumento_float|vlrglosa_float|vlrliquido_float|vlrrestituicao_float|\n",
      "+------+---------+--------------------+------------+--------+----------+--------------+-----------+------------------+--------------+----------------+--------------------+\n",
      "|  2019|      PSC|           SINPETAXI|          30|       0|        30|          NULL|       true|              30.0|           0.0|            30.0|                NULL|\n",
      "|  2019|       PT|ASSOCIACAO DOS MO...|          30|       0|        30|          NULL|       true|              30.0|           0.0|            30.0|                NULL|\n",
      "|  2019|       PT|ASSOCIACAO DOS MO...|          30|       0|        30|          NULL|       true|              30.0|           0.0|            30.0|                NULL|\n",
      "|  2019|       PT|ASSOCIACAO DOS MO...|          44|       0|        44|          NULL|       true|              44.0|           0.0|            44.0|                NULL|\n",
      "|  2019|       PT|ASSOCIACAO DOS MO...|          44|       0|        44|          NULL|       true|              44.0|           0.0|            44.0|                NULL|\n",
      "|  2019|       PT|ASSOCIACAO DOS MO...|          44|       0|        44|          NULL|       true|              44.0|           0.0|            44.0|                NULL|\n",
      "|  2019|       PT|ASSOCIACAO DOS MO...|          44|       0|        44|          NULL|       true|              44.0|           0.0|            44.0|                NULL|\n",
      "|  2019|       PT|ASSOCIACAO RODO R...|       70.35|       0|     70.35|          NULL|       true|             70.35|           0.0|           70.35|                NULL|\n",
      "|  2019|       PT|           SINPETAXI|          45|       0|        45|          NULL|       true|              45.0|           0.0|            45.0|                NULL|\n",
      "|  2019|CIDADANIA|SINDICATO DOS PER...|          52|       0|        52|          NULL|       true|              52.0|           0.0|            52.0|                NULL|\n",
      "|  2019|       PT|           SINPETAXI|          40|       0|        40|          NULL|       true|              40.0|           0.0|            40.0|                NULL|\n",
      "|  2019|       PT|           ASPERTAXI|          13|       0|        13|          NULL|       true|              13.0|           0.0|            13.0|                NULL|\n",
      "|  2019|       PT|           ASPERTAXI|          10|       0|        10|          NULL|       true|              10.0|           0.0|            10.0|                NULL|\n",
      "|  2019|       PT|           ASPERTAXI|          16|       2|        14|          NULL|       true|              16.0|           2.0|            14.0|                NULL|\n",
      "|  2019|       PT|COOPERATIVA DOS T...|          22|       0|        22|          NULL|       true|              22.0|           0.0|            22.0|                NULL|\n",
      "|  2019|       PT|SINDICATO DOS PER...|          22|       0|        22|          NULL|       true|              22.0|           0.0|            22.0|                NULL|\n",
      "|  2019|       PT|SINDICATO DOS PER...|          22|       0|        22|          NULL|       true|              22.0|           0.0|            22.0|                NULL|\n",
      "|  2019|       PT|SINDICATO DOS PER...|          21|       0|        21|          NULL|       true|              21.0|           0.0|            21.0|                NULL|\n",
      "|  2019|       PT|SINDICATO DOS PER...|          19|       0|        19|          NULL|       true|              19.0|           0.0|            19.0|                NULL|\n",
      "|  2019|       PT|SINDICATO DOS PER...|          22|       0|        22|          NULL|       true|              22.0|           0.0|            22.0|                NULL|\n",
      "+------+---------+--------------------+------------+--------+----------+--------------+-----------+------------------+--------------+----------------+--------------------+\n",
      "only showing top 20 rows\n",
      "\n"
     ]
    }
   ],
   "source": [
    "\n",
    "sparkSession.sql(\"select * from tab_cota_pergunta_4_taxi  \").show()"
   ]
  },
  {
   "cell_type": "code",
   "execution_count": 42,
   "id": "9f550cf8",
   "metadata": {},
   "outputs": [],
   "source": [
    "\n",
    "group_df = sparkSession.sql(\"select taxi.numano , taxi.sgpartido, sum(taxi.vlrliquido_float) soma_vlrliquido_float  \\\n",
    "                 from tab_cota_pergunta_4_taxi taxi \\\n",
    "                 group by taxi.numano , taxi.sgpartido \\\n",
    "                 order by sum(taxi.vlrliquido_float) desc \\\n",
    "                 \")"
   ]
  },
  {
   "cell_type": "code",
   "execution_count": 43,
   "id": "d0f2a9fa",
   "metadata": {},
   "outputs": [],
   "source": [
    "# Criando uma tabela temporária em memória com os dados e utilizando consulta SQL\n",
    "group_df.createOrReplaceTempView(\"tab_cota_pergunta_4_taxi_group\")"
   ]
  },
  {
   "cell_type": "code",
   "execution_count": 44,
   "id": "4bcc5f35",
   "metadata": {},
   "outputs": [
    {
     "name": "stdout",
     "output_type": "stream",
     "text": [
      "+------+-------------+---------------------+\n",
      "|numano|    sgpartido|soma_vlrliquido_float|\n",
      "+------+-------------+---------------------+\n",
      "|  2019|           PP|   253821.89998531342|\n",
      "|  2019|          PSD|   240785.07000160217|\n",
      "|  2019|          PTB|             152532.0|\n",
      "|  2019|         PSDB|   132750.82000350952|\n",
      "|  2019|           PL|   101394.49000549316|\n",
      "|  2019|          DEM|    99233.81999588013|\n",
      "|  2019|          PDT|    85158.21999549866|\n",
      "|  2019|          PSB|    74623.80000305176|\n",
      "|  2019|           PT|    68422.15998268127|\n",
      "|  2019| REPUBLICANOS|    51057.21000003815|\n",
      "|  2019|          MDB|    38277.40000152588|\n",
      "|  2019|          PRB|              34125.0|\n",
      "|  2019|SOLIDARIEDADE|    33340.37999916077|\n",
      "|  2019|          PSL|    24598.86000442505|\n",
      "|  2019|         PODE|    21497.19000530243|\n",
      "|  2019|          PSC|   19346.180000305176|\n",
      "|  2019|          PPS|               9050.0|\n",
      "|  2019|         PSOL|    7578.660026550293|\n",
      "|  2019|         PROS|               6700.0|\n",
      "|  2019|    CIDADANIA|   1756.2300033569336|\n",
      "+------+-------------+---------------------+\n",
      "only showing top 20 rows\n",
      "\n"
     ]
    }
   ],
   "source": [
    "sparkSession.sql(\"select * from tab_cota_pergunta_4_taxi_group \\\n",
    "                 \").show()"
   ]
  },
  {
   "cell_type": "code",
   "execution_count": 49,
   "id": "84579997",
   "metadata": {},
   "outputs": [
    {
     "ename": "ParseException",
     "evalue": "\n[PARSE_SYNTAX_ERROR] Syntax error at or near '5'.(line 1, pos 11)\n\n== SQL ==\nselect top 5 taxi.numano , taxi.sgpartido, taxi.soma_vlrliquido_float, rest.soma_vlrrestituicao                   from tab_cota_pergunta_4_taxi_group taxi                  inner join tab_cota_pergunta_4_restituicao_group rest on rest.numano = taxi.numano and rest.sgpartido = taxi.sgpartido                  order by taxi.soma_vlrliquido_float desc                  \n-----------^^^\n",
     "output_type": "error",
     "traceback": [
      "\u001b[1;31m---------------------------------------------------------------------------\u001b[0m",
      "\u001b[1;31mParseException\u001b[0m                            Traceback (most recent call last)",
      "Cell \u001b[1;32mIn[49], line 1\u001b[0m\n\u001b[1;32m----> 1\u001b[0m df_final \u001b[38;5;241m=\u001b[39m sparkSession\u001b[38;5;241m.\u001b[39msql(\u001b[38;5;124m\"\u001b[39m\u001b[38;5;124mselect top 5 taxi.numano , taxi.sgpartido, taxi.soma_vlrliquido_float, rest.soma_vlrrestituicao  \u001b[39m\u001b[38;5;130;01m\\\u001b[39;00m\n\u001b[0;32m      2\u001b[0m \u001b[38;5;124m                 from tab_cota_pergunta_4_taxi_group taxi \u001b[39m\u001b[38;5;130;01m\\\u001b[39;00m\n\u001b[0;32m      3\u001b[0m \u001b[38;5;124m                 inner join tab_cota_pergunta_4_restituicao_group rest on rest.numano = taxi.numano and rest.sgpartido = taxi.sgpartido \u001b[39m\u001b[38;5;130;01m\\\u001b[39;00m\n\u001b[0;32m      4\u001b[0m \u001b[38;5;124m                 order by taxi.soma_vlrliquido_float desc \u001b[39m\u001b[38;5;130;01m\\\u001b[39;00m\n\u001b[0;32m      5\u001b[0m \u001b[38;5;124m                 \u001b[39m\u001b[38;5;124m\"\u001b[39m)\u001b[38;5;241m.\u001b[39mtake(\u001b[38;5;241m5\u001b[39m)\n\u001b[0;32m      7\u001b[0m df_final\u001b[38;5;241m.\u001b[39mshow()\n",
      "File \u001b[1;32mC:\\Spark\\python\\pyspark\\sql\\session.py:1631\u001b[0m, in \u001b[0;36mSparkSession.sql\u001b[1;34m(self, sqlQuery, args, **kwargs)\u001b[0m\n\u001b[0;32m   1627\u001b[0m         \u001b[38;5;28;01massert\u001b[39;00m \u001b[38;5;28mself\u001b[39m\u001b[38;5;241m.\u001b[39m_jvm \u001b[38;5;129;01mis\u001b[39;00m \u001b[38;5;129;01mnot\u001b[39;00m \u001b[38;5;28;01mNone\u001b[39;00m\n\u001b[0;32m   1628\u001b[0m         litArgs \u001b[38;5;241m=\u001b[39m \u001b[38;5;28mself\u001b[39m\u001b[38;5;241m.\u001b[39m_jvm\u001b[38;5;241m.\u001b[39mPythonUtils\u001b[38;5;241m.\u001b[39mtoArray(\n\u001b[0;32m   1629\u001b[0m             [_to_java_column(lit(v)) \u001b[38;5;28;01mfor\u001b[39;00m v \u001b[38;5;129;01min\u001b[39;00m (args \u001b[38;5;129;01mor\u001b[39;00m [])]\n\u001b[0;32m   1630\u001b[0m         )\n\u001b[1;32m-> 1631\u001b[0m     \u001b[38;5;28;01mreturn\u001b[39;00m DataFrame(\u001b[38;5;28mself\u001b[39m\u001b[38;5;241m.\u001b[39m_jsparkSession\u001b[38;5;241m.\u001b[39msql(sqlQuery, litArgs), \u001b[38;5;28mself\u001b[39m)\n\u001b[0;32m   1632\u001b[0m \u001b[38;5;28;01mfinally\u001b[39;00m:\n\u001b[0;32m   1633\u001b[0m     \u001b[38;5;28;01mif\u001b[39;00m \u001b[38;5;28mlen\u001b[39m(kwargs) \u001b[38;5;241m>\u001b[39m \u001b[38;5;241m0\u001b[39m:\n",
      "File \u001b[1;32mC:\\Spark\\python\\lib\\py4j-0.10.9.7-src.zip\\py4j\\java_gateway.py:1322\u001b[0m, in \u001b[0;36mJavaMember.__call__\u001b[1;34m(self, *args)\u001b[0m\n\u001b[0;32m   1316\u001b[0m command \u001b[38;5;241m=\u001b[39m proto\u001b[38;5;241m.\u001b[39mCALL_COMMAND_NAME \u001b[38;5;241m+\u001b[39m\\\n\u001b[0;32m   1317\u001b[0m     \u001b[38;5;28mself\u001b[39m\u001b[38;5;241m.\u001b[39mcommand_header \u001b[38;5;241m+\u001b[39m\\\n\u001b[0;32m   1318\u001b[0m     args_command \u001b[38;5;241m+\u001b[39m\\\n\u001b[0;32m   1319\u001b[0m     proto\u001b[38;5;241m.\u001b[39mEND_COMMAND_PART\n\u001b[0;32m   1321\u001b[0m answer \u001b[38;5;241m=\u001b[39m \u001b[38;5;28mself\u001b[39m\u001b[38;5;241m.\u001b[39mgateway_client\u001b[38;5;241m.\u001b[39msend_command(command)\n\u001b[1;32m-> 1322\u001b[0m return_value \u001b[38;5;241m=\u001b[39m get_return_value(\n\u001b[0;32m   1323\u001b[0m     answer, \u001b[38;5;28mself\u001b[39m\u001b[38;5;241m.\u001b[39mgateway_client, \u001b[38;5;28mself\u001b[39m\u001b[38;5;241m.\u001b[39mtarget_id, \u001b[38;5;28mself\u001b[39m\u001b[38;5;241m.\u001b[39mname)\n\u001b[0;32m   1325\u001b[0m \u001b[38;5;28;01mfor\u001b[39;00m temp_arg \u001b[38;5;129;01min\u001b[39;00m temp_args:\n\u001b[0;32m   1326\u001b[0m     \u001b[38;5;28;01mif\u001b[39;00m \u001b[38;5;28mhasattr\u001b[39m(temp_arg, \u001b[38;5;124m\"\u001b[39m\u001b[38;5;124m_detach\u001b[39m\u001b[38;5;124m\"\u001b[39m):\n",
      "File \u001b[1;32mC:\\Spark\\python\\pyspark\\errors\\exceptions\\captured.py:185\u001b[0m, in \u001b[0;36mcapture_sql_exception.<locals>.deco\u001b[1;34m(*a, **kw)\u001b[0m\n\u001b[0;32m    181\u001b[0m converted \u001b[38;5;241m=\u001b[39m convert_exception(e\u001b[38;5;241m.\u001b[39mjava_exception)\n\u001b[0;32m    182\u001b[0m \u001b[38;5;28;01mif\u001b[39;00m \u001b[38;5;129;01mnot\u001b[39;00m \u001b[38;5;28misinstance\u001b[39m(converted, UnknownException):\n\u001b[0;32m    183\u001b[0m     \u001b[38;5;66;03m# Hide where the exception came from that shows a non-Pythonic\u001b[39;00m\n\u001b[0;32m    184\u001b[0m     \u001b[38;5;66;03m# JVM exception message.\u001b[39;00m\n\u001b[1;32m--> 185\u001b[0m     \u001b[38;5;28;01mraise\u001b[39;00m converted \u001b[38;5;28;01mfrom\u001b[39;00m \u001b[38;5;28;01mNone\u001b[39;00m\n\u001b[0;32m    186\u001b[0m \u001b[38;5;28;01melse\u001b[39;00m:\n\u001b[0;32m    187\u001b[0m     \u001b[38;5;28;01mraise\u001b[39;00m\n",
      "\u001b[1;31mParseException\u001b[0m: \n[PARSE_SYNTAX_ERROR] Syntax error at or near '5'.(line 1, pos 11)\n\n== SQL ==\nselect top 5 taxi.numano , taxi.sgpartido, taxi.soma_vlrliquido_float, rest.soma_vlrrestituicao                   from tab_cota_pergunta_4_taxi_group taxi                  inner join tab_cota_pergunta_4_restituicao_group rest on rest.numano = taxi.numano and rest.sgpartido = taxi.sgpartido                  order by taxi.soma_vlrliquido_float desc                  \n-----------^^^\n"
     ]
    }
   ],
   "source": [
    "\n",
    "df_final = sparkSession.sql(\"select taxi.numano , taxi.sgpartido, taxi.soma_vlrliquido_float, rest.soma_vlrrestituicao  \\\n",
    "                 from tab_cota_pergunta_4_taxi_group taxi \\\n",
    "                 inner join tab_cota_pergunta_4_restituicao_group rest on rest.numano = taxi.numano and rest.sgpartido = taxi.sgpartido \\\n",
    "                 order by taxi.soma_vlrliquido_float desc \\\n",
    "                 \").take(5)\n",
    "\n",
    "df_final.show()"
   ]
  },
  {
   "cell_type": "code",
   "execution_count": null,
   "id": "6fe01a40",
   "metadata": {},
   "outputs": [],
   "source": []
  }
 ],
 "metadata": {
  "kernelspec": {
   "display_name": "Python 3 (ipykernel)",
   "language": "python",
   "name": "python3"
  },
  "language_info": {
   "codemirror_mode": {
    "name": "ipython",
    "version": 3
   },
   "file_extension": ".py",
   "mimetype": "text/x-python",
   "name": "python",
   "nbconvert_exporter": "python",
   "pygments_lexer": "ipython3",
   "version": "3.11.5"
  }
 },
 "nbformat": 4,
 "nbformat_minor": 5
}
